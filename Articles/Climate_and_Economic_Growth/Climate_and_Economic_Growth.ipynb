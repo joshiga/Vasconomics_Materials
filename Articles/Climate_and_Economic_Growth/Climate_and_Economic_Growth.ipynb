{
 "cells": [
  {
   "cell_type": "markdown",
   "metadata": {},
   "source": [
    "# Import the Libraries"
   ]
  },
  {
   "cell_type": "code",
   "execution_count": null,
   "metadata": {},
   "outputs": [],
   "source": [
    "import os\n",
    "import pandas as pd\n",
    "import numpy as np\n",
    "\n",
    "import matplotlib.pyplot as plt\n",
    "import matplotlib.patches as mpatches\n",
    "import mpld3\n",
    "\n",
    "from bokeh.io import show, save, output_file\n",
    "from bokeh.models import ColumnDataSource\n",
    "from bokeh.models.widgets import DataTable, TableColumn\n",
    "\n",
    "%matplotlib inline\n",
    "mpld3.enable_notebook()"
   ]
  },
  {
   "cell_type": "markdown",
   "metadata": {},
   "source": [
    "# Import the Data and construct the DataFrame"
   ]
  },
  {
   "cell_type": "code",
   "execution_count": null,
   "metadata": {},
   "outputs": [],
   "source": [
    "data = pd.read_csv('Climate_and_Economy_Data.csv')\n",
    "data['GDP_Per_Capita_PPP'] = round(data['GDP_Per_Capita_PPP']/1000,2)\n",
    "data = data.rename(columns = {'GDP_Per_Capita_PPP': 'GDP Per Capita PPP (Thousand $ Year)', 'Rainfall': 'Rainfall (mm per month)',\n",
    "                             'Temperature': 'Temperature (Cº)'})\n",
    "data = data.set_index('ISO3')"
   ]
  },
  {
   "cell_type": "markdown",
   "metadata": {},
   "source": [
    "## Scatter Plot - Labels when Hover"
   ]
  },
  {
   "cell_type": "code",
   "execution_count": null,
   "metadata": {
    "scrolled": true
   },
   "outputs": [],
   "source": [
    "fig, ax = plt.subplots(subplot_kw=dict(facecolor='#EEEEEE'), figsize=(20, 10))\n",
    "\n",
    "#Define the Variables\n",
    "x = 'Rainfall (mm per month)' #'Temperature (Cº)'\n",
    "y = 'GDP Per Capita PPP (Thousand $ Year)'\n",
    "\n",
    "x_metric = 'mm/pm' if x == 'Rainfall (mm per month)' else 'Cº'\n",
    "y_metric = 'K USD/Year'\n",
    "\n",
    "output_name = str(str(x.replace(\" \", \"_\"))+'vs'+str(y.replace(\" \", \"_\"))+'.html') \n",
    "\n",
    "# Function to map the colors as a list from the input list of x variables\n",
    "def pltcolor(lst):\n",
    "    cols=[]\n",
    "    for l in lst:\n",
    "        if l=='Europe':\n",
    "            cols.append('lime')\n",
    "        elif l=='Asia':\n",
    "            cols.append('yellow')\n",
    "        elif l=='Oceania':\n",
    "            cols.append('red')\n",
    "        elif l=='North America':\n",
    "            cols.append('navy')\n",
    "        elif l=='South America':\n",
    "            cols.append('aqua')\n",
    "        elif l=='Africa':\n",
    "            cols.append('saddlebrown')\n",
    "    return cols\n",
    "\n",
    "# Create the colors list using the function above\n",
    "data['Color'] = pltcolor(data['Continent'])\n",
    "\n",
    "scatter = ax.scatter(data[x],\n",
    "                     data[y],\n",
    "                     c=data['Color'],\n",
    "                     s=400,\n",
    "                     alpha=0.5,\n",
    "                     cmap=plt.cm.jet)\n",
    "\n",
    "#Graph Feautures\n",
    "ax.set_title(str(str(x)+' vs '+str(y)), size=20)\n",
    "plt.xlabel(x)\n",
    "plt.ylabel(y)\n",
    "\n",
    "#Legend\n",
    "green_patch = mpatches.Patch(color='lime', label='Europe')\n",
    "yellow_patch = mpatches.Patch(color='yellow', label='Asia')\n",
    "red_patch = mpatches.Patch(color='red', label='Oceania')\n",
    "blue_patch = mpatches.Patch(color='navy', label='North America')\n",
    "gray_patch = mpatches.Patch(color='aqua', label='South America')\n",
    "brown_patch = mpatches.Patch(color='saddlebrown', label='Africa')\n",
    "plt.legend(handles=[green_patch, yellow_patch, red_patch, blue_patch, gray_patch, brown_patch], fancybox=True, framealpha=0.5)\n",
    "\n",
    "#Include the Trendline\n",
    "z = np.polyfit(data[x], data[y], 1)\n",
    "p = np.poly1d(z)\n",
    "ax.plot(data[x],p(data[x]),\"black\")\n",
    "\n",
    "#Prepare the Scatter dots label and get it bundled in tooltip\n",
    "labels = []\n",
    "for i in data.index:\n",
    "    labels.append(str(data['Country'][i]) + '<br/>' + str(data[x][i]) + x_metric + '<br/>' + str(data[y][i]) + y_metric)\n",
    "    \n",
    "#bubble_label = np.asarray(data['Country'])\n",
    "tooltip = mpld3.plugins.PointHTMLTooltip(scatter, labels)\n",
    "\n",
    "#Show the Graph\n",
    "mpld3.plugins.connect(fig, tooltip)\n",
    "\n",
    "#mpld3.display()\n",
    "\n",
    "#Save Graph\n",
    "mpld3.save_html(fig,output_name)"
   ]
  },
  {
   "cell_type": "markdown",
   "metadata": {},
   "source": [
    "# Save the table to html using Bokeh"
   ]
  },
  {
   "cell_type": "code",
   "execution_count": null,
   "metadata": {},
   "outputs": [],
   "source": [
    "data_table_columns = ['Country', 'GDP Per Capita PPP (Thousand $ Year)', 'Temperature (Cº)', 'Rainfall (mm per month)']\n",
    "\n",
    "source = ColumnDataSource(data)\n",
    "\n",
    "columns = [TableColumn(field=Ci, title=Ci, width=20) for Ci in data_table_columns]\n",
    "\n",
    "data_table = DataTable(source=source, columns=columns, width=800, height=280, selectable = True, index_position = None)\n",
    "\n",
    "output_file('Climate_and_Economy_Growth_Table.html')\n",
    "save(data_table)"
   ]
  }
 ],
 "metadata": {
  "celltoolbar": "Raw Cell Format",
  "kernelspec": {
   "display_name": "Python 3",
   "language": "python",
   "name": "python3"
  },
  "language_info": {
   "codemirror_mode": {
    "name": "ipython",
    "version": 3
   },
   "file_extension": ".py",
   "mimetype": "text/x-python",
   "name": "python",
   "nbconvert_exporter": "python",
   "pygments_lexer": "ipython3",
   "version": "3.7.5"
  }
 },
 "nbformat": 4,
 "nbformat_minor": 2
}
