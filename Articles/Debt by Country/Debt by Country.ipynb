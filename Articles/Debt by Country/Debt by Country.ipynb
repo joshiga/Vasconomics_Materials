{
 "cells": [
  {
   "cell_type": "code",
   "execution_count": null,
   "metadata": {},
   "outputs": [],
   "source": [
    "#Libraires import\n",
    "import quandl\n",
    "\n",
    "import pandas as pd"
   ]
  },
  {
   "cell_type": "markdown",
   "metadata": {},
   "source": [
    "# Early Definitions"
   ]
  },
  {
   "cell_type": "code",
   "execution_count": null,
   "metadata": {},
   "outputs": [],
   "source": [
    "#Quandl API key - Created a Free Account\n",
    "quandl.ApiConfig.api_key = \"\""
   ]
  },
  {
   "cell_type": "code",
   "execution_count": null,
   "metadata": {},
   "outputs": [],
   "source": [
    "#Import the DataFrame with Country Names and Country ISO Codes (for Download)\n",
    "countries_df = pd.read_csv('Country_ISO_code.csv')"
   ]
  },
  {
   "cell_type": "markdown",
   "metadata": {},
   "source": [
    "# Obtaining the Data"
   ]
  },
  {
   "cell_type": "code",
   "execution_count": null,
   "metadata": {},
   "outputs": [],
   "source": [
    "#This is the code for the 1st Country to be Downloaded\n",
    "##Note: A DataFrame will be created with the data for the 1st country and then ...\n",
    "## ... the data for the next countries will be added to this DataFrame in a loop via merger (see next cell)\n",
    "\n",
    "#Define the Country Name and the Country ISO Code \n",
    "country_name = countries_df.iloc[0]['Country']\n",
    "country_code = countries_df.iloc[0]['ISO3']\n",
    "\n",
    "#Codes to Download the Debt level by GDP and Outstanding Debt Value using the Country ISO Code\n",
    "country_debt_to_gdp = quandl.get(\"ODA/\"+country_code+\"_GGXWDG_NGDP\")\n",
    "country_gdp = quandl.get(\"ODA/\"+country_code+\"_NGDPD\")\n",
    "\n",
    "#Reset Index for Merging based on \"Date\" column\n",
    "country_debt_to_gdp = country_debt_to_gdp.reset_index()\n",
    "country_gdp = country_gdp.reset_index()\n",
    "\n",
    "#Change the Name of the column with the Data from Value to the Country's Name\n",
    "country_debt_to_gdp = country_debt_to_gdp.rename(columns={'Value': country_name})\n",
    "country_gdp = country_gdp.rename(columns={'Value': country_name})"
   ]
  },
  {
   "cell_type": "code",
   "execution_count": null,
   "metadata": {},
   "outputs": [],
   "source": [
    "#Loop to Obtain the data for each Country In the Countries DataFrame\n",
    "##Same code as above with difference in the last 2 lines\n",
    "for index, row in countries_df[1:].iterrows():\n",
    "    try:\n",
    "        country_name = row['Country']\n",
    "        country_code = row['ISO3']\n",
    "\n",
    "        country_debt_to_gdp_next = quandl.get(\"ODA/\"+country_code+\"_GGXWDG_NGDP\")\n",
    "        country_gdp_next = quandl.get(\"ODA/\"+country_code+\"_NGDPD\")\n",
    "\n",
    "        country_debt_to_gdp_next = country_debt_to_gdp_next.reset_index()\n",
    "        country_gdp_next = country_gdp_next.reset_index()\n",
    "\n",
    "        country_debt_to_gdp_next = country_debt_to_gdp_next.rename(columns={'Value': country_name})\n",
    "        country_gdp_next = country_gdp_next.rename(columns={'Value': country_name})\n",
    "\n",
    "        #Merge this with the main DataFrame\n",
    "        country_debt_to_gdp = country_debt_to_gdp.merge(country_debt_to_gdp_next, on='Date', how='outer')\n",
    "        country_gdp = country_gdp.merge(country_gdp_next, on='Date', how='outer')\n",
    "    except:\n",
    "        continue"
   ]
  },
  {
   "cell_type": "code",
   "execution_count": null,
   "metadata": {},
   "outputs": [],
   "source": [
    "#Sort DataFrames by Date\n",
    "country_debt_to_gdp = country_debt_to_gdp.sort_values(by=['Date'])\n",
    "country_gdp = country_gdp.sort_values(by=['Date'])"
   ]
  },
  {
   "cell_type": "code",
   "execution_count": null,
   "metadata": {
    "scrolled": true
   },
   "outputs": [],
   "source": [
    "#Delete prospective rows\n",
    "country_debt_to_gdp = country_debt_to_gdp.iloc[:40]\n",
    "country_gdp = country_gdp.iloc[:40]"
   ]
  },
  {
   "cell_type": "code",
   "execution_count": null,
   "metadata": {},
   "outputs": [],
   "source": [
    "#DataFrame for the Latest Value for GDP in USD Billions\n",
    "country_gdp_latest = pd.DataFrame(country_gdp.iloc[-1])\n",
    "country_gdp_latest = country_gdp_latest[1:]\n",
    "country_gdp_latest = country_gdp_latest.reset_index()\n",
    "country_gdp_latest.columns = ['Country','GDP']\n",
    "\n",
    "#DataFrame for the Latest Value for Debt to GDP\n",
    "country_debt_to_gdp_latest = pd.DataFrame(country_debt_to_gdp.iloc[-1])\n",
    "country_debt_to_gdp_latest = country_debt_to_gdp_latest[1:]\n",
    "country_debt_to_gdp_latest = country_debt_to_gdp_latest.reset_index()\n",
    "country_debt_to_gdp_latest.columns = ['Country','Debt to GDP']\n",
    "country_debt_to_gdp_latest['Rank'] = country_debt_to_gdp_latest['Debt to GDP'].rank(ascending=False).dropna().astype('int32')"
   ]
  },
  {
   "cell_type": "code",
   "execution_count": null,
   "metadata": {},
   "outputs": [],
   "source": [
    "#DataFrame for the Latest Value for Debt in in USD Billions\n",
    "country_debt_latest = country_gdp_latest.merge(country_debt_to_gdp_latest,on='Country', how='left')\n",
    "country_debt_latest['Debt'] = country_debt_latest['GDP']*country_debt_latest['Debt to GDP']/100\n",
    "country_debt_latest = country_debt_latest.drop(columns=['GDP','Debt to GDP', 'Rank'])"
   ]
  },
  {
   "cell_type": "markdown",
   "metadata": {},
   "source": [
    "# Treemap of World Debt"
   ]
  },
  {
   "cell_type": "code",
   "execution_count": null,
   "metadata": {},
   "outputs": [],
   "source": [
    "#Libraries for Treemap\n",
    "from functools import partial\n",
    "from d3IpyPlus import *\n",
    "#d3IpyPlus was found in https://github.com/maclandrol/d3IpyPlus\n",
    "## One just needs to include the file d3IpyPlus.py in the same path as the Jupyter Notebook's file"
   ]
  },
  {
   "cell_type": "code",
   "execution_count": null,
   "metadata": {},
   "outputs": [],
   "source": [
    "#Running the Treemamp Code\n",
    "tmap = TreeMap(id=[\"Country\"], size=\"Debt\", color=\"Debt\", legend=False, width=700)\n",
    "tmap.draw(country_debt_latest)"
   ]
  },
  {
   "cell_type": "code",
   "execution_count": null,
   "metadata": {},
   "outputs": [],
   "source": [
    "#To print the dump html code the below can be used. However, in this case changes were needed in the html text.\n",
    "print(tmap.dump_html(country_debt_latest))"
   ]
  },
  {
   "cell_type": "markdown",
   "metadata": {},
   "source": [
    "# World Map with the Debt"
   ]
  },
  {
   "cell_type": "code",
   "execution_count": null,
   "metadata": {},
   "outputs": [],
   "source": [
    "#Libabries for GeoPlots\n",
    "import geoviews as gv\n",
    "import geoviews.feature as gf\n",
    "import geopandas as gpd\n",
    "from cartopy import crs as ccrs\n",
    "\n",
    "#Library to Save the Plots\n",
    "import panel as pn\n",
    "\n",
    "gv.extension('bokeh')"
   ]
  },
  {
   "cell_type": "markdown",
   "metadata": {},
   "source": [
    "## Rearranging the Data"
   ]
  },
  {
   "cell_type": "code",
   "execution_count": null,
   "metadata": {},
   "outputs": [],
   "source": [
    "##GeoPandas Database\n",
    "world = gpd.read_file(gpd.datasets.get_path('naturalearth_lowres'))\n",
    "world = world.rename(columns={'iso_a3':'ISO3'})\n",
    "###Correcting GeoPandas Database\n",
    "world.loc[world['name']=='Norway','ISO3'] = 'NOR'\n",
    "world.loc[world['name']=='France','ISO3'] = 'FRA'\n",
    "world.loc[world['name']=='Kosovo','ISO3'] = 'RKS'"
   ]
  },
  {
   "cell_type": "code",
   "execution_count": null,
   "metadata": {},
   "outputs": [],
   "source": [
    "#Merge DataFrames to include ISO3 column in the DataFrame with the Debt to GDP data\n",
    "country_debt_to_gdp_latest = country_debt_to_gdp_latest.merge(countries_df, on='Country', how='left')\n",
    "country_debt_to_gdp_latest = country_debt_to_gdp_latest.drop(columns='Country')\n",
    "\n",
    "#Create the DataFrame to Plot the GeooMaps: Merge the DataFrame comprising the Debt to GDP data with the DataFrame with \n",
    "#... Greo coordinates\n",
    "geo_df = world.merge(country_debt_to_gdp_latest, on='ISO3', how='left')\n",
    "\n",
    "#Reordering columns\n",
    "order = [0,1,2,3,4,6,7,5] # setting column's order\n",
    "geo_df = geo_df[[geo_df.columns[i] for i in order]]\n",
    "geo_df = geo_df.rename(columns={'name':'Country'})"
   ]
  },
  {
   "cell_type": "code",
   "execution_count": null,
   "metadata": {},
   "outputs": [],
   "source": [
    "##Debt to GDP GeoMap\n",
    "country_debt_to_gdp_map = gv.Polygons(geo_df, vdims=['Debt to GDP','Rank','Country'],label= 'Debt to GDP (in %), 2019'\n",
    "           ).opts(projection=ccrs.Robinson(), width=800, height=400,tools=['hover'], colorbar=True, cmap='RdYlGn_r')"
   ]
  },
  {
   "cell_type": "code",
   "execution_count": null,
   "metadata": {},
   "outputs": [],
   "source": [
    "#Saving the Figures to HTML format\n",
    "p = pn.panel(country_debt_to_gdp_map)\n",
    "p.save('Debt_to_GDP_Map.html')"
   ]
  },
  {
   "cell_type": "markdown",
   "metadata": {},
   "source": [
    "# Plotting Debt's Evolution"
   ]
  },
  {
   "cell_type": "code",
   "execution_count": null,
   "metadata": {
    "scrolled": false
   },
   "outputs": [],
   "source": [
    "#Libraries for Graphs\n",
    "import holoviews as hv\n",
    "from holoviews import opts, dim\n",
    "from bokeh.models import HoverTool\n",
    "\n",
    "hv.extension('bokeh')"
   ]
  },
  {
   "cell_type": "code",
   "execution_count": null,
   "metadata": {},
   "outputs": [],
   "source": [
    "#Set Index for the DataFrame\n",
    "#Define what are the possible entries in the DropDown List\n",
    "country_debt_to_gdp = country_debt_to_gdp.set_index('Date')\n",
    "\n",
    "countries = country_debt_to_gdp.columns\n",
    "\n",
    "multi_df = dict()\n",
    "for country in countries:\n",
    "\n",
    "    country_table = country_debt_to_gdp[country]\n",
    "    country_table = pd.DataFrame(country_table)\n",
    "    country_table = country_table.reset_index()\n",
    "    country_table['Date'] = pd.to_datetime(country_table['Date'])\n",
    "    country_table = country_table.rename(columns={country:'Debt_to_GDP'})\n",
    "    \n",
    "    #Joining the obtained Single Dataframes into the Dicitonary\n",
    "    multi_df.update({country: country_table})"
   ]
  },
  {
   "cell_type": "code",
   "execution_count": null,
   "metadata": {
    "scrolled": true
   },
   "outputs": [],
   "source": [
    "#Define the Function to be used in the Dynamic Map\n",
    "def load_countries(Country):  \n",
    "    #Instatiating the Curve Objects for Plotting\n",
    "    hover_1 = HoverTool(tooltips=[(\"Date\", \"@Date{%F}\"), (\"Debt_to_GDP\", \"@Debt_to_GDP\")], formatters={'Date': 'datetime'}) \n",
    "    \n",
    "    full_graph = hv.Curve(multi_df[Country], label = 'Debt to GDP').opts(\n",
    "        tools=[hover_1], xlabel='Date', ylabel = 'Debt in % of GDP', width=700, height = 400)    \n",
    "    return full_graph\n",
    "\n",
    "country_names = list(multi_df.keys())\n",
    "\n",
    "#Instantiate the DynamicMap object\n",
    "dmap = hv.DynamicMap(load_countries, kdims='Country').redim.values(Country=country_names)\n",
    "\n",
    "dmap = dmap.opts(framewise=True)"
   ]
  },
  {
   "cell_type": "code",
   "execution_count": null,
   "metadata": {},
   "outputs": [],
   "source": [
    "#Saving the Graph to HTML format\n",
    "p = pn.panel(dmap)\n",
    "p.save('Debt_to_GDP_multiple_countries.html', embed = True)"
   ]
  }
 ],
 "metadata": {
  "kernelspec": {
   "display_name": "Python 3",
   "language": "python",
   "name": "python3"
  },
  "language_info": {
   "codemirror_mode": {
    "name": "ipython",
    "version": 3
   },
   "file_extension": ".py",
   "mimetype": "text/x-python",
   "name": "python",
   "nbconvert_exporter": "python",
   "pygments_lexer": "ipython3",
   "version": "3.7.5"
  }
 },
 "nbformat": 4,
 "nbformat_minor": 2
}
