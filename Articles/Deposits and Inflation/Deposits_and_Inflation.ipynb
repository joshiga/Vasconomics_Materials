{
 "cells": [
  {
   "cell_type": "markdown",
   "metadata": {},
   "source": [
    "# Import the Libraries"
   ]
  },
  {
   "cell_type": "code",
   "execution_count": null,
   "metadata": {},
   "outputs": [],
   "source": [
    "import os\n",
    "import pandas as pd\n",
    "import numpy as np\n",
    "\n",
    "from bokeh.plotting import figure, show, save\n",
    "from bokeh.io import output_file\n",
    "from bokeh.models import ColumnDataSource, HoverTool, DateFormatter\n",
    "from bokeh.models.widgets import DateRangeSlider\n",
    "from bokeh.layouts import row, widgetbox\n",
    "\n",
    "import holoviews as hv\n",
    "from holoviews import opts\n",
    "from holoviews.plotting.links import RangeToolLink\n",
    "\n",
    "import panel as pn\n",
    "\n",
    "hv.extension('bokeh')"
   ]
  },
  {
   "cell_type": "markdown",
   "metadata": {},
   "source": [
    "# Import the Data and construct the DataFrame"
   ]
  },
  {
   "cell_type": "code",
   "execution_count": null,
   "metadata": {},
   "outputs": [],
   "source": [
    "dataframe = pd.read_csv('Deposits_and_Inflation_Data.csv')"
   ]
  },
  {
   "cell_type": "code",
   "execution_count": null,
   "metadata": {},
   "outputs": [],
   "source": [
    "country = 'Portugal'"
   ]
  },
  {
   "cell_type": "code",
   "execution_count": null,
   "metadata": {},
   "outputs": [],
   "source": [
    "chosen_columns = []\n",
    "for column in dataframe.columns:\n",
    "    if dataframe.iloc[0][column] == country:\n",
    "        chosen_columns.append(dataframe[column])\n",
    "joint_table = pd.concat(chosen_columns, axis=1)"
   ]
  },
  {
   "cell_type": "code",
   "execution_count": null,
   "metadata": {
    "scrolled": false
   },
   "outputs": [],
   "source": [
    "joint_table['Code'] = dataframe['Code']\n",
    "\n",
    "country_table = joint_table[3:]\n",
    "country_table['Code'] = pd.to_datetime(country_table['Code'])\n",
    "country_table.columns = joint_table.iloc[1]\n",
    "country_table = country_table.rename(columns = {\"Metric\":\"Date\", \"Inflation rate\": \"Inflation_rate\", \n",
    "                                                \"Interest rate\":\"Interest_rate\", \"Real Interest rate\": \"Real_Interest_rate\"})\n",
    "country_table = country_table.set_index('Date')\n",
    "country_table = country_table.apply(pd.to_numeric)"
   ]
  },
  {
   "cell_type": "markdown",
   "metadata": {},
   "source": [
    "# Graphs - Holoviews, based on Bokeh"
   ]
  },
  {
   "cell_type": "markdown",
   "metadata": {},
   "source": [
    "## Graph 1 - Holoviews with RangeTool"
   ]
  },
  {
   "cell_type": "code",
   "execution_count": null,
   "metadata": {
    "scrolled": true
   },
   "outputs": [],
   "source": [
    "#Generate all curves\n",
    "def getCurves(n):\n",
    "    for column in country_table.columns:\n",
    "        curve = hv.Curve(country_table[column], label = column)\n",
    "        yield curve\n",
    "\n",
    "x_range = (country_table['Interest_rate'].replace(0, np.nan).first_valid_index(), country_table['Interest_rate'].index[-1])\n",
    "y_range = (country_table.min().min() - 0.5, country_table.max().max() + 0.5)\n",
    "        \n",
    "source_curves, target_curves  = [], []\n",
    "for curve in getCurves(10):\n",
    "    src = curve.relabel('').opts(width=800, height=100, yaxis=None, default_tools=[], xlim = x_range, ylim = y_range) \n",
    "    tgt = curve.opts(opts.Curve(tools=['hover'], width=800, xlim = x_range, ylim = y_range, ylabel = 'Percentage'))\n",
    "    source_curves.append(src)\n",
    "    target_curves.append(tgt)     \n",
    "\n",
    "# link RangeTool for the first curves in the list.\n",
    "RangeToolLink(source_curves[0],target_curves[0])\n",
    "\n",
    "#Overlay the source and target curves\n",
    "overlaid_plot_src = hv.Overlay(source_curves).relabel('')    \n",
    "overlaid_plot_tgt = hv.Overlay(target_curves).relabel('Portugal').opts(height=400)\n",
    "\n",
    "# layout the plot and render\n",
    "layout = (overlaid_plot_tgt + overlaid_plot_src).cols(1)\n",
    "layout = layout.opts(merge_tools=False,shared_axes=False)\n",
    "\n",
    "#Save the Plot\n",
    "p = pn.panel(layout)\n",
    "p.save('Graph_1.html', embed = True)"
   ]
  },
  {
   "cell_type": "markdown",
   "metadata": {},
   "source": [
    "## Graph 2 - Holoviews with DropDown List"
   ]
  },
  {
   "cell_type": "markdown",
   "metadata": {},
   "source": [
    "### Constructing a new DataFrame"
   ]
  },
  {
   "cell_type": "code",
   "execution_count": null,
   "metadata": {},
   "outputs": [],
   "source": [
    "variable = 'Real Interest rate'"
   ]
  },
  {
   "cell_type": "code",
   "execution_count": null,
   "metadata": {},
   "outputs": [],
   "source": [
    "chosen_columns = []\n",
    "for column in dataframe.columns:\n",
    "    if dataframe.iloc[1][column] == variable:\n",
    "        chosen_columns.append(dataframe[column])\n",
    "joint_table = pd.concat(chosen_columns, axis=1)"
   ]
  },
  {
   "cell_type": "code",
   "execution_count": null,
   "metadata": {
    "scrolled": false
   },
   "outputs": [],
   "source": [
    "joint_table['Code'] = dataframe['Code']\n",
    "\n",
    "variable_table = joint_table[3:]\n",
    "variable_table['Code'] = pd.to_datetime(variable_table['Code'])\n",
    "variable_table.columns = joint_table.iloc[0]\n",
    "variable_table = variable_table.rename(columns = {\"Country\":\"Date\"})\n",
    "variable_table = variable_table.set_index('Date')\n",
    "variable_table = variable_table.apply(pd.to_numeric)"
   ]
  },
  {
   "cell_type": "markdown",
   "metadata": {},
   "source": [
    "### Deploying the Graph"
   ]
  },
  {
   "cell_type": "code",
   "execution_count": null,
   "metadata": {
    "scrolled": false
   },
   "outputs": [],
   "source": [
    "#Include Dropdown List\n",
    "def load_countries(Country): \n",
    "    curve = hv.Curve(variable_table[Country])\n",
    "    curve = curve.opts(opts.Curve(tools=['hover'], width=700, ylabel = 'Real Interest rate, in %'))\n",
    "    return curve\n",
    "        \n",
    "countries_name = variable_table.columns\n",
    "\n",
    "dmap = hv.DynamicMap(load_countries, kdims='Country').redim.values(Country=countries_name)\n",
    "\n",
    "dmap = dmap.opts(framewise=True)\n",
    "\n",
    "#Save the Plot - Use Panel package\n",
    "p = pn.panel(dmap)\n",
    "p.save('Graph_2.html', embed = True)"
   ]
  }
 ],
 "metadata": {
  "kernelspec": {
   "display_name": "Python 3",
   "language": "python",
   "name": "python3"
  },
  "language_info": {
   "codemirror_mode": {
    "name": "ipython",
    "version": 3
   },
   "file_extension": ".py",
   "mimetype": "text/x-python",
   "name": "python",
   "nbconvert_exporter": "python",
   "pygments_lexer": "ipython3",
   "version": "3.7.5"
  }
 },
 "nbformat": 4,
 "nbformat_minor": 2
}
