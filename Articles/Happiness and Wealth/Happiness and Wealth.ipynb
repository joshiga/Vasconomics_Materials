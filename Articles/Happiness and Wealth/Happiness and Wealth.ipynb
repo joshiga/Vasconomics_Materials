{
 "cells": [
  {
   "cell_type": "markdown",
   "metadata": {},
   "source": [
    "# Importing the Libraries"
   ]
  },
  {
   "cell_type": "code",
   "execution_count": null,
   "metadata": {},
   "outputs": [],
   "source": [
    "import pandas as pd\n",
    "import numpy as np\n",
    "\n",
    "#Libabries for GeoPlots\n",
    "import geoviews as gv\n",
    "import geoviews.feature as gf\n",
    "import geopandas as gpd\n",
    "from cartopy import crs as ccrs\n",
    "\n",
    "#Libraries for ScatterPlots\n",
    "import holoviews as hv\n",
    "from holoviews import opts, dim\n",
    "\n",
    "#Library to Save the Plots\n",
    "import panel as pn\n",
    "\n",
    "#Libraries for Table\n",
    "from bokeh.io import show, save, output_file\n",
    "from bokeh.models import ColumnDataSource\n",
    "from bokeh.models.widgets import DataTable, TableColumn\n",
    "\n",
    "hv.extension('bokeh')\n",
    "gv.extension('bokeh')"
   ]
  },
  {
   "cell_type": "markdown",
   "metadata": {},
   "source": [
    "## Importing and Rearranging the Data"
   ]
  },
  {
   "cell_type": "code",
   "execution_count": null,
   "metadata": {},
   "outputs": [],
   "source": [
    "#Import and Rearrange DataFrames\n",
    "##Happiness Database\n",
    "happiness_data_all = pd.read_csv('World_Happiness_Report_2019.csv')\n",
    "happiness_data = happiness_data_all.drop(columns={'Country','GDP per capita','Social support','Healthy life expectancy',\n",
    "                                              'Freedom to make life choices','Generosity','Perceptions of corruption'})\n",
    "##HDI Database - also includes GNI_PPP$\n",
    "gni_data_all = pd.read_csv('GNI_2018.csv')\n",
    "gni_data = gni_data_all.drop(columns={'Country'})\n",
    "\n",
    "##GeoPandas Database\n",
    "world = gpd.read_file(gpd.datasets.get_path('naturalearth_lowres'))\n",
    "world = world.rename(columns={'iso_a3':'ISO3'})\n",
    "###Correcting GeoPandas Database\n",
    "world.loc[world['name']=='Norway','ISO3'] = 'NOR'\n",
    "world.loc[world['name']=='France','ISO3'] = 'FRA'\n",
    "world.loc[world['name']=='Kosovo','ISO3'] = 'RKS'\n",
    "world.loc[world['name']=='Kosovo','ISO3'] = 'RKS'\n",
    "\n",
    "df_init = world.merge(happiness_data, on= 'ISO3', how='left')\n",
    "df = df_init.merge(gni_data, on= 'ISO3', how='left')\n",
    "df = df.rename(columns={'Score':'Happiness_Score','name':'Country',\n",
    "                        'Gross national income (GNI) per capita (PPP k$)':'GNI_per_capita_PPP'})\n",
    "\n",
    "#Reordering columns\n",
    "order = [0,1,2,3,4,6,7,8,9,5] # setting column's order\n",
    "df = df[[df.columns[i] for i in order]]"
   ]
  },
  {
   "cell_type": "markdown",
   "metadata": {},
   "source": [
    "## Creating the GeoMap Plots"
   ]
  },
  {
   "cell_type": "code",
   "execution_count": null,
   "metadata": {},
   "outputs": [],
   "source": [
    "#Instatiating the Figures using Geoviews\n",
    "##Happiness Map\n",
    "df = df.rename(columns={'Rank_Happiness':'Rank'}) #Need to rename columns to have correct Rank\n",
    "happiness_map = gv.Polygons(df, vdims=['Happiness_Score','Rank','Country'],label= 'Happiness by Country, 2019'\n",
    "           ).opts(projection=ccrs.Robinson(), width=800, height=400,tools=['hover'], colorbar=True, cmap='RdYlGn')\n",
    "\n",
    "##GNI Map\n",
    "df = df.rename(columns={'Rank':'Rank_Happiness','Rank_GNI_PPP':'Rank'}) #Need to rename columns to have correct Rank\n",
    "gni_map = gv.Polygons(df, vdims=['GNI_per_capita_PPP','Rank','Country'],label= 'GNI per capita PPP (in k$) by Country, 2018'\n",
    "           ).opts(projection=ccrs.Robinson(), width=800, height=400,tools=['hover'], colorbar=True, cmap='Spectral')"
   ]
  },
  {
   "cell_type": "code",
   "execution_count": null,
   "metadata": {},
   "outputs": [],
   "source": [
    "#Saving the Figures to HTML format\n",
    "##Happiness\n",
    "p_happiness = pn.panel(happiness_map)\n",
    "p_happiness.save('Happiness_Map.html')\n",
    "\n",
    "##GNI\n",
    "p_happiness = pn.panel(gni_map)\n",
    "p_happiness.save('GNI_Map.html')"
   ]
  },
  {
   "cell_type": "markdown",
   "metadata": {},
   "source": [
    "## Creating Scatter Plot"
   ]
  },
  {
   "cell_type": "code",
   "execution_count": null,
   "metadata": {},
   "outputs": [],
   "source": [
    "#Rearrange the DataFrame\n",
    "df_scatter = pd.DataFrame(df)\n",
    "df_scatter = df_scatter.drop(columns={'pop_est','ISO3','gdp_md_est','Rank_Happiness','Rank','geometry'})\n",
    "df_scatter = df_scatter.dropna()"
   ]
  },
  {
   "cell_type": "code",
   "execution_count": null,
   "metadata": {
    "scrolled": false
   },
   "outputs": [],
   "source": [
    "#Scatter Plot for Happiness vs GNI\n",
    "Happiness_GNI_scatter = hv.Scatter(df_scatter, kdims = ['Happiness_Score', 'GNI_per_capita_PPP'])\n",
    "\n",
    "##Colors\n",
    "explicit_mapping = {'Europe': 'lime', 'Asia': 'yellow', 'Oceania': 'red', 'North America': 'navy','South America': 'aqua',\n",
    "                   'Africa':'saddlebrown'}\n",
    "\n",
    "##Defining the Charts's Area\n",
    "\n",
    "x_range = (df_scatter['Happiness_Score'].min()-0.2,df_scatter['Happiness_Score'].max()+0.2)\n",
    "y_range = (df_scatter['GNI_per_capita_PPP'].min()-3,df_scatter['GNI_per_capita_PPP'].max()+3)\n",
    "              \n",
    "##Plot Joining all together\n",
    "Happiness_GNI_scatter = Happiness_GNI_scatter.opts(opts.Scatter(tools=['hover'], height = 600, width=800, size = 10, \n",
    "                                                                xlim = x_range, ylim = y_range,\n",
    "                                   color = 'continent', cmap=explicit_mapping, legend_position = 'top'))\n",
    "\n",
    "# Create the Trendline\n",
    "x = df_scatter['Happiness_Score']\n",
    "y = df_scatter['GNI_per_capita_PPP']\n",
    "par = np.polyfit(x, y, 1, full=True)\n",
    "slope=par[0][0]\n",
    "intercept=par[0][1]\n",
    "y_predicted = [slope*i + intercept  for i in x]\n",
    "\n",
    "trendline = hv.Curve((x, y_predicted)).opts(opts.Curve(color='black'))\n",
    "\n",
    "full_scatter_GNI = (Happiness_GNI_scatter * trendline).opts(title=\"Happiness and Wealth by Country\")\n",
    "\n",
    "#Save ScatterPlot to html file\n",
    "p = pn.panel(full_scatter_GNI)\n",
    "p.save('Happiness_vs_Wealth.html', embed = True)"
   ]
  },
  {
   "cell_type": "markdown",
   "metadata": {},
   "source": [
    "# Save the DataFrame to html format"
   ]
  },
  {
   "cell_type": "code",
   "execution_count": null,
   "metadata": {},
   "outputs": [],
   "source": [
    "#DataFrame for Table\n",
    "happiness_data_all = pd.read_csv('World_Happiness_Report_2019.csv')\n",
    "happiness_data = happiness_data_all.drop(columns={'GDP per capita','Social support','Healthy life expectancy',\n",
    "                                              'Freedom to make life choices','Generosity','Perceptions of corruption'})\n",
    "\n",
    "df_table = gni_data.merge(happiness_data, on = 'ISO3', how='left')\n",
    "df_table = df_table.drop(columns={'ISO3'})\n",
    "df_table = df_table.rename(columns={'Score':'Happiness Score',\n",
    "                                    'Rank_Happiness': 'Rank Happiness',\n",
    "                                   'Gross national income (GNI) per capita (PPP k$)':'GNI per Capita PPP',\n",
    "                                   'Rank_GNI_PPP':'Rank GNI per capita PPP'}) \n",
    "#Reordering columns\n",
    "order = [2,3,4,0,1] # setting column's order\n",
    "df_table = df_table[[df_table.columns[i] for i in order]]\n",
    "\n",
    "df_table = df_table.dropna()\n",
    "df_table = df_table.round({'Happiness Score':3, 'GNI per Capita PPP': 3})"
   ]
  },
  {
   "cell_type": "code",
   "execution_count": null,
   "metadata": {},
   "outputs": [],
   "source": [
    "df_columns = df_table.columns\n",
    "\n",
    "#Define the Source and the Columns of the DataFrame\n",
    "source = ColumnDataSource(df_table)\n",
    "\n",
    "columns = [TableColumn(field=Ci, title=Ci, width=20) for Ci in df_columns]\n",
    "\n",
    "#Create the DataFrame\n",
    "data_table = DataTable(source=source, columns=columns, width=700, height=400, selectable = True, index_position = None)\n",
    "\n",
    "#Save the DataFrame\n",
    "output_file('Data_Table.html')\n",
    "save(data_table)"
   ]
  }
 ],
 "metadata": {
  "kernelspec": {
   "display_name": "Python 3",
   "language": "python",
   "name": "python3"
  },
  "language_info": {
   "codemirror_mode": {
    "name": "ipython",
    "version": 3
   },
   "file_extension": ".py",
   "mimetype": "text/x-python",
   "name": "python",
   "nbconvert_exporter": "python",
   "pygments_lexer": "ipython3",
   "version": "3.7.5"
  }
 },
 "nbformat": 4,
 "nbformat_minor": 2
}
