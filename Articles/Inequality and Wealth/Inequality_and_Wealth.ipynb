{
 "cells": [
  {
   "cell_type": "markdown",
   "metadata": {},
   "source": [
    "# Import Libraries"
   ]
  },
  {
   "cell_type": "code",
   "execution_count": null,
   "metadata": {},
   "outputs": [],
   "source": [
    "import pandas as pd\n",
    "import numpy as np\n",
    "\n",
    "#Libabries for GeoPlots\n",
    "import geoviews as gv\n",
    "import geoviews.feature as gf\n",
    "import geopandas as gpd\n",
    "from cartopy import crs as ccrs\n",
    "\n",
    "#Libraries for Graphs\n",
    "import holoviews as hv\n",
    "from holoviews import opts, dim\n",
    "from holoviews.plotting.links import RangeToolLink\n",
    "\n",
    "#Libraries for Bokeh Graphs\n",
    "from bokeh.models.renderers import GlyphRenderer\n",
    "from bokeh.models import Range1d, LinearAxis\n",
    "from bokeh.models import HoverTool\n",
    "\n",
    "#Libraries for Table\n",
    "from bokeh.io import show, save, output_file\n",
    "from bokeh.models import ColumnDataSource\n",
    "from bokeh.models.widgets import DataTable, TableColumn\n",
    "\n",
    "#Library to Save the Plots\n",
    "import panel as pn\n",
    "\n",
    "hv.extension('bokeh')\n",
    "gv.extension('bokeh')"
   ]
  },
  {
   "cell_type": "markdown",
   "metadata": {},
   "source": [
    "# Import DataFrames and Initial Manipulation"
   ]
  },
  {
   "cell_type": "code",
   "execution_count": null,
   "metadata": {},
   "outputs": [],
   "source": [
    "#Import and Rearrange DataFrames\n",
    "##Gini Index Latest Values Database\n",
    "GINI_data_latest = pd.read_csv('Gini_and_GNI_Index_Latest.csv')\n",
    "GINI_data_latest = GINI_data_latest.drop(columns={'Country Name', 'GNI per capita PPP Rank'})\n",
    "GINI_data_latest = GINI_data_latest.rename(columns={'Gini Index':'Gini_Index','GNI per capita PPP':'GNI_per_capita_PPP',\n",
    "                                                    'Gini Index Rank': 'Rank', 'Country Code':'ISO3'})                                                    \n",
    "\n",
    "##GeoPandas Database\n",
    "world = gpd.read_file(gpd.datasets.get_path('naturalearth_lowres'))\n",
    "world = world.rename(columns={'iso_a3':'ISO3'})\n",
    "###Correcting GeoPandas Database\n",
    "world.loc[world['name']=='Norway','ISO3'] = 'NOR'\n",
    "world.loc[world['name']=='France','ISO3'] = 'FRA'\n",
    "world.loc[world['name']=='Kosovo','ISO3'] = 'RKS'\n",
    "world.loc[world['name']=='Kosovo','ISO3'] = 'RKS'\n",
    "\n",
    "##Join DataFrames\n",
    "df = world.merge(GINI_data_latest, on= 'ISO3', how='left')\n",
    "df = df.rename(columns={'name':'Country'})\n",
    "#Reordering columns\n",
    "order = [0,1,2,3,4,6,7,8,5] # setting column's order\n",
    "df = df[[df.columns[i] for i in order]]"
   ]
  },
  {
   "cell_type": "markdown",
   "metadata": {},
   "source": [
    "## Creating the GeoMap Plot"
   ]
  },
  {
   "cell_type": "code",
   "execution_count": null,
   "metadata": {
    "scrolled": false
   },
   "outputs": [],
   "source": [
    "#Instatiating the Figures using Geoviews\n",
    "##Gini Index Map\n",
    "Gini_Index_map = gv.Polygons(df, vdims=['Gini_Index','Rank','Country'],label= 'Gini Index, 2017*'\n",
    "           ).opts(projection=ccrs.Robinson(), width=800, height=400,tools=['hover'], colorbar=True, cmap='RdYlGn_r')\n",
    "Gini_Index_map"
   ]
  },
  {
   "cell_type": "code",
   "execution_count": null,
   "metadata": {},
   "outputs": [],
   "source": [
    "#Saving the Figures to HTML format\n",
    "p = pn.panel(Gini_Index_map)\n",
    "p.save('Gini_Index_Map.html')"
   ]
  },
  {
   "cell_type": "markdown",
   "metadata": {},
   "source": [
    "# Graphs - Holoviews, based on Bokeh"
   ]
  },
  {
   "cell_type": "markdown",
   "metadata": {},
   "source": [
    "## Creating Scatter Plot"
   ]
  },
  {
   "cell_type": "code",
   "execution_count": null,
   "metadata": {},
   "outputs": [],
   "source": [
    "#Rearrange the DataFrame\n",
    "df_scatter_full = pd.DataFrame(df)\n",
    "df_scatter_full = df_scatter_full.drop(columns={'pop_est','ISO3','gdp_md_est','Rank','geometry'})\n",
    "df_scatter_full = df_scatter_full.dropna()"
   ]
  },
  {
   "cell_type": "code",
   "execution_count": null,
   "metadata": {},
   "outputs": [],
   "source": [
    "#Scatter Plot for Gini vs GNI\n",
    "Gini_GNI_scatter = hv.Scatter(df_scatter_full, kdims = ['Gini_Index', 'GNI_per_capita_PPP'])\n",
    "\n",
    "##Colors\n",
    "explicit_mapping = {'Europe': 'lime', 'Asia': 'yellow', 'Oceania': 'red', 'North America': 'navy','South America': 'aqua',\n",
    "                   'Africa':'saddlebrown'}\n",
    "\n",
    "##Defining the Charts's Area\n",
    "\n",
    "x_range = (df_scatter_full['Gini_Index'].min()-1,df_scatter_full['Gini_Index'].max()+1)\n",
    "y_range = (df_scatter_full['GNI_per_capita_PPP'].min()-1,df_scatter_full['GNI_per_capita_PPP'].max()+1)\n",
    "              \n",
    "##Plot Joining all together\n",
    "Gini_GNI_scatter = Gini_GNI_scatter.opts(opts.Scatter(tools=['hover'], height = 600, width=800, size = 10, \n",
    "                                                                xlim = x_range, ylim = y_range,\n",
    "                                   color = 'continent', cmap=explicit_mapping, legend_position = 'top'))\n",
    "\n",
    "# Create the Trendline\n",
    "x = df_scatter_full['Gini_Index']\n",
    "y = df_scatter_full['GNI_per_capita_PPP']\n",
    "par = np.polyfit(x, y, 1, full=True)\n",
    "slope=par[0][0]\n",
    "intercept=par[0][1]\n",
    "y_predicted = [slope*i + intercept  for i in x]\n",
    "\n",
    "trendline = hv.Curve((x, y_predicted)).opts(opts.Curve(color='black', title=\"Inequality and Wealth by Country\"))\n",
    "\n",
    "full_scatter_GNI = Gini_GNI_scatter * trendline\n",
    "\n",
    "#Save ScatterPlot to html file\n",
    "p = pn.panel(full_scatter_GNI)\n",
    "p.save('Inequality_vs_Wealth.html', embed = True)"
   ]
  },
  {
   "cell_type": "markdown",
   "metadata": {},
   "source": [
    "## Creating a Graph with the 2 Variables with DropDown List"
   ]
  },
  {
   "cell_type": "code",
   "execution_count": null,
   "metadata": {},
   "outputs": [],
   "source": [
    "dataframe = pd.read_csv('Gini_and_GNI.csv')\n",
    "\n",
    "countries = dataframe.iloc[0,1:].unique()\n",
    "\n",
    "#Need to Transform the Existing DataFrame into a Dictionary with several \"DataFrames\" by key (eg. Country) \n",
    "multi_df = dict()\n",
    "for country in countries:\n",
    "    #For each of the Variables will to the following procedure\n",
    "    \n",
    "    chosen_columns = []\n",
    "    #This loop is to filter each variable's varlue in the big-dataframe and create a create a single Dataframe\n",
    "    for column in dataframe.columns:\n",
    "        if dataframe.iloc[0][column] == country:\n",
    "            chosen_columns.append(dataframe[column])\n",
    "    joint_table = pd.concat(chosen_columns, axis=1)\n",
    "\n",
    "    #Some Small Changes to the obtained DataFrame\n",
    "    joint_table['Code'] = dataframe['Code']\n",
    "\n",
    "    country_table = joint_table[3:]\n",
    "    country_table['Code'] = pd.to_datetime(country_table['Code'])\n",
    "    country_table.columns = joint_table.iloc[1]\n",
    "    country_table = country_table.rename(columns = {\"Metric\":\"Date\", \"Gini Index\": \"Gini_Index\",\n",
    "                                                \"GNI per capita PPP\":\"GNI_per_capita_PPP\"})\n",
    "    country_table = country_table.set_index('Date')\n",
    "    country_table = country_table.apply(pd.to_numeric)\n",
    "    \n",
    "    #Joining the obtained Single Dataframes into the Dicitonary\n",
    "    multi_df.update({country: country_table})"
   ]
  },
  {
   "cell_type": "code",
   "execution_count": null,
   "metadata": {},
   "outputs": [],
   "source": [
    "#Defining the y-Axis Range\n",
    "    #Because in the Dynamic Map below the Axis do not adjust in aconvenient way for both variables\n",
    "y_max = []\n",
    "y_min = []\n",
    "for Index in multi_df.keys():\n",
    "    y_min_ = min(multi_df[Index]['GNI_per_capita_PPP'].min(), multi_df[Index]['Gini_Index'].min())                    \n",
    "    y_max_ = max(multi_df[Index]['GNI_per_capita_PPP'].max(), multi_df[Index]['Gini_Index'].max())\n",
    "\n",
    "    y_min.append(y_min_)\n",
    "    y_max.append(y_max_)\n",
    "\n",
    "#Define the Final Range\n",
    "y_range = (round(min(y_min)), round(max(y_max)))"
   ]
  },
  {
   "cell_type": "code",
   "execution_count": null,
   "metadata": {},
   "outputs": [],
   "source": [
    "#Define the Function to be used in the Dynamic Map\n",
    "def load_countries(Country):\n",
    "    #Defining the Hovering Tooltips\n",
    "    hover_1 = HoverTool(tooltips=[(\"Date\", \"@x{%F}\"), (\"GNI\", \"@y\")], formatters={'x': 'datetime'})   \n",
    "    hover_2 = HoverTool(tooltips=[(\"Date\", \"@x{%F}\"), (\"Gini_Index\", \"@y\")], formatters={'x': 'datetime'})   \n",
    "    \n",
    "    #Instatiating the Curve Objects for Plotting\n",
    "    c_GNI = hv.Curve((multi_df[Country].index,  multi_df[Country]['GNI_per_capita_PPP']\n",
    "                      ), label='GNI_per_capita_PPP').opts(tools=[hover_1], color='red', xlabel='Date', ylim= y_range,\n",
    "                                                          ylabel = 'Index/ Thousands of $')\n",
    "\n",
    "    c_Gini = hv.Curve((multi_df[Country].index, multi_df[Country]['Gini_Index']\n",
    "                     ),label = 'Gini_Index').opts(tools=[hover_2], color='blue', ylim= y_range,\n",
    "                                                  ylabel = 'Index/ Thousands of $')\n",
    "    #Join the Curve Objects and create the Complete Graph\n",
    "    full_graph = hv.Overlay(c_GNI * c_Gini).opts(width=700, height = 400, legend_position='top_right')\n",
    "    full_graph\n",
    "    \n",
    "    return full_graph\n",
    "\n",
    "#Define what are the possible entries in the DropDown List\n",
    "countries_name = countries\n",
    "\n",
    "#Instantiate the DynamicMap object\n",
    "dmap = hv.DynamicMap(load_countries, kdims='Country').redim.values(Country=countries_name)\n",
    "\n",
    "#Saving the Graph to HTML format\n",
    "p = pn.panel(dmap)\n",
    "p.save('GNI_vs_Gini_Many_Countries.html', embed = True)"
   ]
  },
  {
   "cell_type": "markdown",
   "metadata": {},
   "source": [
    "# Save the DataFrame to html format"
   ]
  },
  {
   "cell_type": "code",
   "execution_count": null,
   "metadata": {},
   "outputs": [],
   "source": [
    "#DataFrame for Table\n",
    "df_table = pd.read_csv('Gini_and_GNI_Index_Latest.csv')\n",
    "df_table = df_table.drop(columns={'Country Code'})\n",
    "df_table = df_table.rename(columns={'Country Name':'Country'}) "
   ]
  },
  {
   "cell_type": "code",
   "execution_count": null,
   "metadata": {},
   "outputs": [],
   "source": [
    "df_columns = df_table.columns\n",
    "\n",
    "#Define the Source and the Columns of the DataFrame\n",
    "source = ColumnDataSource(df_table)\n",
    "\n",
    "columns = [TableColumn(field=Ci, title=Ci, width=20) for Ci in df_columns]\n",
    "\n",
    "#Create the DataFrame\n",
    "data_table = DataTable(source=source, columns=columns, width=700, height=400, selectable = True, index_position = None)\n",
    "\n",
    "#Save the DataFrame\n",
    "output_file('Data_Table.html')\n",
    "save(data_table)"
   ]
  },
  {
   "cell_type": "markdown",
   "metadata": {},
   "source": [
    "# Extra: Individual map with 2 axis "
   ]
  },
  {
   "cell_type": "code",
   "execution_count": null,
   "metadata": {},
   "outputs": [],
   "source": [
    "#Function to Create a Secondary Axis\n",
    "def apply_formatter(plot, element):\n",
    "    p = plot.state\n",
    "\n",
    "    # Create secondary range and axis\n",
    "    p.extra_y_ranges = {\"twiny\": Range1d(start=country_table['Gini_Index'].min()-1, end=country_table['Gini_Index'].max()+1)}\n",
    "\n",
    "    p.add_layout(LinearAxis(axis_label = 'Gini_Index', y_range_name=\"twiny\"), 'right')\n",
    "\n",
    "    # Set glyph y_range_name to the one that was just created\n",
    "    glyph = p.select(dict(type=GlyphRenderer))[0]\n",
    "    glyph.y_range_name = 'twiny'\n",
    "\n",
    "#Defining the Hovering Tooltips\n",
    "hover_1 = HoverTool(tooltips=[(\"Date\", \"@x{%F}\"), (\"GNI_per_capita_PPP\", \"@y\")], formatters={'x': 'datetime'})   \n",
    "hover_2 = HoverTool(tooltips=[(\"Date\", \"@x{%F}\"), (\"Gini_Index\", \"@y\")], formatters={'x': 'datetime'})   \n",
    "\n",
    "#Instatiating the Curve Objects for Plotting\n",
    "c_GNI = hv.Curve((country_table.index,  country_table['GNI_per_capita_PPP']\n",
    "                  ), label='GNI_per_capita_PPP').opts(tools=[hover_1], color='red', xlabel='Date',ylabel = 'GNI_per_capita_PPP')\n",
    "\n",
    "c_Gini = hv.Curve((country_table.index, country_table['Gini_Index']\n",
    "                 ),label = 'Gini_Index').opts(tools=[hover_2], color='blue', hooks=[apply_formatter])\n",
    "\n",
    "#Join the Curve Objects and create the Complete Graph\n",
    "full_graph = (c_GNI * c_Gini).opts(width=800, height = 400, legend_position='top_left', title='Portugal')\n",
    "\n",
    "#Saving the Graph to HTML format\n",
    "p = pn.panel(full_graph)\n",
    "p.save('Portugal_Gini_GNI.html', embed = True)"
   ]
  }
 ],
 "metadata": {
  "kernelspec": {
   "display_name": "Python 3",
   "language": "python",
   "name": "python3"
  },
  "language_info": {
   "codemirror_mode": {
    "name": "ipython",
    "version": 3
   },
   "file_extension": ".py",
   "mimetype": "text/x-python",
   "name": "python",
   "nbconvert_exporter": "python",
   "pygments_lexer": "ipython3",
   "version": "3.7.5"
  }
 },
 "nbformat": 4,
 "nbformat_minor": 2
}
