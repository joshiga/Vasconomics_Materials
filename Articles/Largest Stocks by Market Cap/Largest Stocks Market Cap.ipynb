{
 "cells": [
  {
   "cell_type": "markdown",
   "metadata": {},
   "source": [
    "# Import Libraries"
   ]
  },
  {
   "cell_type": "code",
   "execution_count": null,
   "metadata": {},
   "outputs": [],
   "source": [
    "import pandas as pd # For DataFrame Manipulation\n",
    "\n",
    "#Libraries to download data from Yahoo Finance\n",
    "from yahoo_fin.stock_info import *\n",
    "import yfinance as yf\n",
    "\n",
    "#Libraries for System functions\n",
    "import datetime\n",
    "import time\n",
    "import os, sys\n",
    "import shutil\n",
    "\n",
    "from tqdm.notebook import tqdm #Library to see progress of loop iterations\n",
    "\n",
    "#Libraries for Treemap\n",
    "from functools import partial\n",
    "from d3IpyPlus import *\n",
    "#d3IpyPlus was found in https://github.com/maclandrol/d3IpyPlus\n",
    "## One just needs to include the file d3IpyPlus.py in the same path as the Jupyter Notebook's file\n",
    "\n",
    "#Libraries for Table\n",
    "from bokeh.io import show, save, output_file\n",
    "from bokeh.models import ColumnDataSource\n",
    "from bokeh.models.widgets import DataTable, TableColumn"
   ]
  },
  {
   "cell_type": "markdown",
   "metadata": {},
   "source": [
    "# Initial Setup"
   ]
  },
  {
   "cell_type": "code",
   "execution_count": null,
   "metadata": {},
   "outputs": [],
   "source": [
    "#Create a Data Folder\n",
    "Data_folder = os.path.abspath(os.getcwd() +'/Data/')\n",
    "if not os.path.exists(Data_folder):\n",
    "    os.makedirs(Data_folder)\n",
    "\n",
    "#Clean older files and folders in the Data Folder\n",
    "filelist = [ f for f in os.listdir(Data_folder)]\n",
    "for f in filelist:\n",
    "    shutil.rmtree(os.path.join(Data_folder, f), ignore_errors=True)\n",
    "\n",
    "filelist = [ f for f in os.listdir(Data_folder)]\n",
    "for f in filelist:\n",
    "    os.remove(os.path.join(Data_folder, f))\n",
    "\n",
    "#Create New Folder for EuroStoxx\n",
    "eurostoxx_folder = os.path.join(Data_folder, 'EuroStoxx')\n",
    "if not os.path.exists(eurostoxx_folder):\n",
    "    os.makedirs(eurostoxx_folder)\n",
    "    \n",
    "#Create New Folder for SP500\n",
    "sp500_folder = os.path.join(Data_folder, 'SP500')\n",
    "if not os.path.exists(sp500_folder):\n",
    "    os.makedirs(sp500_folder)\n",
    "    \n",
    "#Create New Folder for Currencies\n",
    "currencies_folder = os.path.join(Data_folder, 'Currencies')\n",
    "if not os.path.exists(currencies_folder):\n",
    "    os.makedirs(currencies_folder)"
   ]
  },
  {
   "cell_type": "code",
   "execution_count": null,
   "metadata": {},
   "outputs": [],
   "source": [
    "#Define the file name with information (Company name, Stock Ticker and so on)\n",
    "file_name = 'Stoxx600.csv'"
   ]
  },
  {
   "cell_type": "code",
   "execution_count": null,
   "metadata": {},
   "outputs": [],
   "source": [
    "#Obtain the Sector and Industry for one Ticker based on the Excel File\n",
    "def GICS(ticker):\n",
    "    GICS_table = pd.read_csv(file_name, index_col = 'Yahoo_Ticker')\n",
    "    name = GICS_table[GICS_table.index==ticker]['Name'][0]\n",
    "    sector = GICS_table[GICS_table.index==ticker]['Sector'][0]\n",
    "    country = GICS_table[GICS_table.index==ticker]['Country'][0]\n",
    "    currency = GICS_table[GICS_table.index==ticker]['Currency_Yahoo'][0]\n",
    "    Ticker_ID = GICS_table[GICS_table.index==ticker]['Ticker'][0]\n",
    "    return name, sector, country, currency, Ticker_ID"
   ]
  },
  {
   "cell_type": "code",
   "execution_count": null,
   "metadata": {},
   "outputs": [],
   "source": [
    "#Formula to Convert variables to number values\n",
    "def converter(variable):\n",
    "    convert_matrix = {'%': 1, 'K': 1000, 'k': 1000, 'M': 1000000, 'B': 1000000000, 'T': 1000000000000}\n",
    "    if pd.isnull(variable):\n",
    "        variable = 'nan'\n",
    "    elif isinstance(variable, float):\n",
    "        variable = variable\n",
    "    else:\n",
    "        variable = variable.replace(',', '')\n",
    "        units = variable[-1]\n",
    "        if (units == '%' or units == 'K' or units == 'k' or units == 'M' or units == 'B' or units == 'T'):\n",
    "            variable = round(float(variable[:-1])*convert_matrix[units],2)\n",
    "        else:\n",
    "            variable = round(float(variable),2)\n",
    "    return variable"
   ]
  },
  {
   "cell_type": "markdown",
   "metadata": {},
   "source": [
    "# EuroStoxx"
   ]
  },
  {
   "cell_type": "markdown",
   "metadata": {},
   "source": [
    "## Obtaining the Stock Market Data"
   ]
  },
  {
   "cell_type": "code",
   "execution_count": null,
   "metadata": {},
   "outputs": [],
   "source": [
    "#Define the List of tickers\n",
    "Index_data = pd.read_csv(file_name)\n",
    "\n",
    "tickers = Index_data['Yahoo_Ticker'].drop_duplicates().tolist()\n",
    "currencies = Index_data['Currency_Yahoo'].drop_duplicates().tolist()"
   ]
  },
  {
   "cell_type": "code",
   "execution_count": null,
   "metadata": {
    "scrolled": true
   },
   "outputs": [],
   "source": [
    "#Loop through the tickers' list (tqdm gives the progress bar)\n",
    "for ticker in tqdm(tickers):\n",
    "    try:\n",
    "        ##Obtain information on the Name, Sector and Industry of each Ticker\n",
    "        name, sector, country, currency, Ticker_ID = GICS(ticker)\n",
    "        \n",
    "        ##Get Data from Yahoo: Key Stats Table and the Historical Price Data\n",
    "        key_stats = get_stats(ticker)\n",
    "        Shares_Outs = key_stats.loc[18][-1]\n",
    "\n",
    "        price = yf.download(ticker, start=\"2020-03-30\", end=\"2020-03-31\")['Adj Close']\n",
    "        \n",
    "        ##Work on the Data Received: \n",
    "        Shares_Outs = converter(Shares_Outs) #Convert Shares Outsanding from text to number, using Formula defined earlier\n",
    "        price = round(price[-1],2) #Obtain the Price value and round it to 2\n",
    "        \n",
    "        Market_Cap = round(Shares_Outs*price,2)\n",
    "        \n",
    "        ##Construct Ticker Table to Print\n",
    "        ticker_data_table = pd.DataFrame(data={\n",
    "            'Ticker': [Ticker_ID], 'Name': [name], 'Sector': [sector], 'Country': [country], 'Currency':[currency],\n",
    "            'Price':[price], 'Market_Cap': [Market_Cap]\n",
    "        }).set_index('Ticker')\n",
    "        \n",
    "        ##Save Table\n",
    "        ticker_data_table.to_csv(os.path.join(eurostoxx_folder,ticker)+'_Table.csv')\n",
    "                \n",
    "    except:\n",
    "        continue"
   ]
  },
  {
   "cell_type": "code",
   "execution_count": null,
   "metadata": {},
   "outputs": [],
   "source": [
    "#Join All the Ticker Data Files into a Table\n",
    "files = os.listdir(eurostoxx_folder)\n",
    "\n",
    "dfList = []\n",
    "\n",
    "for file in files:\n",
    "    df = pd.read_csv(os.path.join(eurostoxx_folder,file)) \n",
    "    df.set_index('Ticker', inplace=True, drop=True)\n",
    "\n",
    "    dfList.append(df)\n",
    "\n",
    "ticker_data_table = pd.concat(dfList, axis=0)\n",
    "\n",
    "ticker_data_table.to_csv(os.path.join(Data_folder,'Ticker_Data_Table.csv'))"
   ]
  },
  {
   "cell_type": "code",
   "execution_count": null,
   "metadata": {
    "scrolled": true
   },
   "outputs": [],
   "source": [
    "#Loop through the Currencies' list (tqdm gives the progress bar)\n",
    "for currency in tqdm(currencies):\n",
    "    try:\n",
    "        currency_value_EUR = yf.download(currency, start=\"2020-03-30\", end=\"2020-03-31\")['Adj Close']\n",
    "\n",
    "        currency_value_EUR = round(currency_value_EUR[-1],4)\n",
    "\n",
    "        ##Construct Ticker Table to Print\n",
    "        currency_data_table = pd.DataFrame(data={\n",
    "            'Currency': [currency], 'Currency_Value_EUR': [currency_value_EUR]\n",
    "        }).set_index('Currency')\n",
    "\n",
    "        currency_pair = currency[0:6] #Cannot Save file name with \"=\"\n",
    "\n",
    "        ##Save Table\n",
    "        currency_data_table.to_csv(os.path.join(currencies_folder,currency_pair)+'_Table.csv')\n",
    "                \n",
    "    except:\n",
    "        continue"
   ]
  },
  {
   "cell_type": "code",
   "execution_count": null,
   "metadata": {},
   "outputs": [],
   "source": [
    "#Join All the Currencies Data Files into a Table\n",
    "files = os.listdir(currencies_folder)\n",
    "\n",
    "dfList = []\n",
    "\n",
    "for file in files:\n",
    "    df = pd.read_csv(os.path.join(currencies_folder,file)) \n",
    "    df.set_index('Currency', inplace=True, drop=True)\n",
    "\n",
    "    dfList.append(df)\n",
    "\n",
    "currency_data_table = pd.concat(dfList, axis=0)\n",
    "\n",
    "#Add EUREUR to be 1\n",
    "currency_data_table = currency_data_table.reset_index()\n",
    "currency_data_table.loc[-1] = 1\n",
    "currency_data_table['Currency'].loc[-1] = 'EUREUR=X'\n",
    "currency_data_table = currency_data_table.set_index('Currency')\n",
    "\n",
    "currency_data_table.to_csv(os.path.join(Data_folder,'Currencies_Data_Table.csv'))"
   ]
  },
  {
   "cell_type": "code",
   "execution_count": null,
   "metadata": {
    "scrolled": true
   },
   "outputs": [],
   "source": [
    "ticker_data_table = ticker_data_table.reset_index()\n",
    "full_table = ticker_data_table.merge(currency_data_table, on='Currency', how='left')\n",
    "\n",
    "# Converting the Market Cap from Different currencies to Euro and adjusting it to Billions of Euros\n",
    "full_table['Market Cap Bn EUR'] = (full_table['Market_Cap'] / full_table['Currency_Value_EUR'])\n",
    "full_table['Market Cap Bn EUR'] = full_table['Market Cap Bn EUR'] / 1000000000\n",
    "\n",
    "#Adjusting the value of Stocks traded in London since inforomation is presented in pences (100 pence = 1 pound)\n",
    "for row in full_table.index:\n",
    "    if full_table['Currency'].loc[row] == 'EURGBP=X':\n",
    "        full_table['Market Cap Bn EUR'].loc[row] = full_table['Market Cap Bn EUR'][row] / 100\n",
    "\n",
    "\n",
    "        \n",
    "full_table = full_table.set_index('Name')\n",
    "#Save Final Table to csv\n",
    "full_table.to_csv('EuroStoxx600_Final_Table.csv')"
   ]
  },
  {
   "cell_type": "code",
   "execution_count": null,
   "metadata": {},
   "outputs": [],
   "source": [
    "full_table = pd.read_csv('EuroStoxx600_Final_Table.csv')"
   ]
  },
  {
   "cell_type": "markdown",
   "metadata": {},
   "source": [
    "#### Note that I couldn't obtain the information for all the tickers so I obtain the rest manually"
   ]
  },
  {
   "cell_type": "markdown",
   "metadata": {},
   "source": [
    "## Generating the TreeMap Figure"
   ]
  },
  {
   "cell_type": "code",
   "execution_count": null,
   "metadata": {},
   "outputs": [],
   "source": [
    "#Reducing the Table to Include only required variables for the TreeMap graph\n",
    "tmap_df = full_table\n",
    "tmap_df = tmap_df.drop(columns=['Ticker','Currency', 'Price', 'Market_Cap','Currency_Value_EUR'])"
   ]
  },
  {
   "cell_type": "code",
   "execution_count": null,
   "metadata": {
    "scrolled": false
   },
   "outputs": [],
   "source": [
    "#Running the Treemamp Code\n",
    "tmap = TreeMap(id=[\"Country\",\"Sector\",\"Name\"], size=\"Market Cap Bn EUR\", color=\"Market Cap Bn EUR\", legend=False, width=700)\n",
    "tmap.draw(tmap_df)"
   ]
  },
  {
   "cell_type": "code",
   "execution_count": null,
   "metadata": {
    "scrolled": false
   },
   "outputs": [],
   "source": [
    "#To print the dump html code the below can be used. However, in this case changes were needed in the html text.\n",
    "print(tmap.dump_html(tmap_df))"
   ]
  },
  {
   "cell_type": "code",
   "execution_count": null,
   "metadata": {
    "scrolled": true
   },
   "outputs": [],
   "source": [
    "#Generating the Treemap with Sectors first and Countries on the next level\n",
    "tmap = TreeMap(id=[\"Sector\",\"Country\",\"Name\"], size=\"Market Cap Bn EUR\", color=\"Market Cap Bn EUR\", legend=False, width=700)\n",
    "tmap.draw(tmap_df)"
   ]
  },
  {
   "cell_type": "code",
   "execution_count": null,
   "metadata": {},
   "outputs": [],
   "source": [
    "#To print the dump html code the below can be used. However, in this case changes were needed in the html text.\n",
    "print(tmap.dump_html(tmap_df))"
   ]
  },
  {
   "cell_type": "markdown",
   "metadata": {},
   "source": [
    "## Save the DataFrame to html format"
   ]
  },
  {
   "cell_type": "code",
   "execution_count": null,
   "metadata": {
    "scrolled": true
   },
   "outputs": [],
   "source": [
    "full_table = full_table.reset_index()\n",
    "\n",
    "#Reshape the Currency Information, to have only the currency and not the currency pair\n",
    "currencies_print = full_table['Currency']\n",
    "for row in currencies_print.index:\n",
    "    currencies_print.loc[row] = currencies_print.loc[row][3:6]\n",
    "\n",
    "#Drop unnecessary columns\n",
    "full_table = full_table.drop(columns=['Currency', 'Market_Cap', 'Currency_Value_EUR'])\n",
    "\n",
    "#Include new column of currencies\n",
    "full_table['Currency'] = currencies_print\n",
    "\n",
    "#Round Market Cap column\n",
    "full_table['Market Cap Bn EUR'] = full_table['Market Cap Bn EUR'].round(4)\n",
    "\n",
    "#Include column for rank\n",
    "full_table['Rank'] = full_table['Market Cap Bn EUR'].rank(ascending = 0)\n",
    "\n",
    "#Sort Table by Ranking column\n",
    "full_table = full_table.sort_values(by='Rank', ascending=True)\n",
    "\n",
    "order = [7,0,1,2,4,6,3,5] # setting column's order\n",
    "full_table = full_table[[full_table.columns[i] for i in order]]\n",
    "full_table = full_table.dropna()"
   ]
  },
  {
   "cell_type": "code",
   "execution_count": null,
   "metadata": {},
   "outputs": [],
   "source": [
    "#Define the Table columns\n",
    "full_table_columns = full_table.columns\n",
    "\n",
    "#Define the Source and the Columns of the DataFrame\n",
    "source = ColumnDataSource(full_table)\n",
    "\n",
    "columns = [TableColumn(field=Ci, title=Ci, width=20) for Ci in full_table_columns]\n",
    "\n",
    "#Create the DataFrame\n",
    "eurostoxx_data_table = DataTable(source=source, columns=columns, width=900, height=400, selectable = True, index_position = None)\n",
    "\n",
    "#Save the DataFrame\n",
    "output_file('EuroStoxx_Data_Table.html')\n",
    "save(eurostoxx_data_table)"
   ]
  },
  {
   "cell_type": "markdown",
   "metadata": {},
   "source": [
    "# SP500"
   ]
  },
  {
   "cell_type": "markdown",
   "metadata": {},
   "source": [
    "### Same procedure as above, difference is that there's no need for exchange conversion neither including \"Country\" variable"
   ]
  },
  {
   "cell_type": "code",
   "execution_count": null,
   "metadata": {},
   "outputs": [],
   "source": [
    "#Obtain the Sector and Industry for one Ticker based on the Excel File\n",
    "file_name = 'SP500.csv'"
   ]
  },
  {
   "cell_type": "code",
   "execution_count": null,
   "metadata": {},
   "outputs": [],
   "source": [
    "#Define the List of tickers\n",
    "Index_data = pd.read_csv(file_name)\n",
    "\n",
    "tickers = Index_data['Yahoo_Ticker'].drop_duplicates().tolist()"
   ]
  },
  {
   "cell_type": "code",
   "execution_count": null,
   "metadata": {},
   "outputs": [],
   "source": [
    "#Loop through the tickers' list (tqdm gives the progress bar)\n",
    "for ticker in tqdm(tickers):\n",
    "    try:\n",
    "        ##Obtain information on the Name, Sector and Industry of each Ticker\n",
    "        name, sector, country, currency, Ticker_ID = GICS(ticker)\n",
    "        \n",
    "        ##Get Data from Yahoo: Key Stats Table and the Historical Price Data\n",
    "        key_stats = get_stats(ticker)\n",
    "        Shares_Outs = key_stats.loc[18][-1]\n",
    "\n",
    "        price = yf.download(ticker, start=\"2020-03-30\", end=\"2020-03-31\")['Adj Close']\n",
    "        \n",
    "        ##Work on the Data Received: \n",
    "        Shares_Outs = converter(Shares_Outs) #Convert Shares Outsanding from text to number, using Formula defined earlier\n",
    "        price = round(price[-1],2) #Obtain the Price value and round it to 2\n",
    "        \n",
    "        Market_Cap = round(Shares_Outs*price,2)\n",
    "        \n",
    "        ##Construct Ticker Table to Print\n",
    "        ticker_data_table = pd.DataFrame(data={\n",
    "            'Ticker': [Ticker_ID], 'Name': [name], 'Sector': [sector], 'Country': [country], 'Currency':[currency],\n",
    "            'Price':[price], 'Market_Cap': [Market_Cap]\n",
    "        }).set_index('Ticker')\n",
    "        \n",
    "        ##Save Table\n",
    "        ticker_data_table.to_csv(os.path.join(sp500_folder,ticker)+'_Table.csv')\n",
    "                \n",
    "    except:\n",
    "        continue"
   ]
  },
  {
   "cell_type": "code",
   "execution_count": null,
   "metadata": {},
   "outputs": [],
   "source": [
    "#Join All the Ticker Data Files into a Table\n",
    "files = os.listdir(sp500_folder)\n",
    "\n",
    "dfList = []\n",
    "\n",
    "for file in files:\n",
    "    df = pd.read_csv(os.path.join(sp500_folder,file)) \n",
    "    df.set_index('Ticker', inplace=True, drop=True)\n",
    "\n",
    "    dfList.append(df)\n",
    "\n",
    "ticker_data_table = pd.concat(dfList, axis=0)\n",
    "\n",
    "ticker_data_table.to_csv(os.path.join(Data_folder,'SP500_Ticker_Data_Table.csv'))"
   ]
  },
  {
   "cell_type": "code",
   "execution_count": null,
   "metadata": {},
   "outputs": [],
   "source": [
    "ticker_data_table = ticker_data_table.reset_index()\n",
    "full_table = ticker_data_table\n",
    "\n",
    "# Converting the Market Cap from Different currencies to Euro and adjusting it to Billions of Euros\n",
    "full_table['Market Cap Bn USD'] = full_table['Market_Cap'] / 1000000000\n",
    "        \n",
    "full_table = full_table.set_index('Name')\n",
    "#Save Final Table to csv\n",
    "full_table.to_csv('SP500_Final_Table.csv')"
   ]
  },
  {
   "cell_type": "code",
   "execution_count": null,
   "metadata": {},
   "outputs": [],
   "source": [
    "full_table = pd.read_csv('SP500_Final_Table.csv')"
   ]
  },
  {
   "cell_type": "markdown",
   "metadata": {},
   "source": [
    "#### Note that I couldn't obtain the information for all the tickers so I obtain the rest manually. Also, some tickers don't get downloaded on the first try so it's worth to try a second time to download them."
   ]
  },
  {
   "cell_type": "markdown",
   "metadata": {},
   "source": [
    "## Generating the TreeMap Figure"
   ]
  },
  {
   "cell_type": "code",
   "execution_count": null,
   "metadata": {},
   "outputs": [],
   "source": [
    "#Reducing the Table to Include only required variables for the TreeMap graph\n",
    "tmap_df = full_table\n",
    "tmap_df = tmap_df.drop(columns=['Ticker','Currency', 'Price', 'Market_Cap'])"
   ]
  },
  {
   "cell_type": "code",
   "execution_count": null,
   "metadata": {
    "scrolled": true
   },
   "outputs": [],
   "source": [
    "#Running the Treemamp Code\n",
    "tmap = TreeMap(id=[\"Country\",\"Sector\",\"Name\"], size=\"Market Cap Bn USD\", color=\"Market Cap Bn USD\", legend=False, width=700)\n",
    "tmap.draw(tmap_df)"
   ]
  },
  {
   "cell_type": "code",
   "execution_count": null,
   "metadata": {},
   "outputs": [],
   "source": [
    "#To print the dump html code the below can be used. However, in this case changes were needed in the html text.\n",
    "print(tmap.dump_html(tmap_df))"
   ]
  },
  {
   "cell_type": "markdown",
   "metadata": {},
   "source": [
    "## Save the DataFrame to html format"
   ]
  },
  {
   "cell_type": "code",
   "execution_count": null,
   "metadata": {},
   "outputs": [],
   "source": [
    "#Reshape the Currency Information, to have only the currency and not the currency pair\n",
    "currencies_print = full_table['Currency']\n",
    "for row in currencies_print.index:\n",
    "    currencies_print.loc[row] = currencies_print.loc[row][3:6]\n",
    "\n",
    "#Drop unnecessary columns\n",
    "full_table = full_table.drop(columns=['Currency', 'Market_Cap'])\n",
    "\n",
    "#Include new column of currencies\n",
    "full_table['Currency'] = currencies_print\n",
    "\n",
    "#Round Market Cap column\n",
    "full_table['Market Cap Bn USD'] = full_table['Market Cap Bn USD'].round(4)\n",
    "\n",
    "#Include column for rank\n",
    "full_table['Rank'] = full_table['Market Cap Bn USD'].rank(ascending = 0)\n",
    "\n",
    "#Sort Table by Ranking column\n",
    "full_table = full_table.sort_values(by='Rank', ascending=True)\n",
    "\n",
    "order = [7,0,1,2,4,6,3,5] # setting column's order\n",
    "full_table = full_table[[full_table.columns[i] for i in order]]"
   ]
  },
  {
   "cell_type": "code",
   "execution_count": null,
   "metadata": {},
   "outputs": [],
   "source": [
    "#Define the Table columns\n",
    "full_table_columns = full_table.columns\n",
    "\n",
    "#Define the Source and the Columns of the DataFrame\n",
    "source = ColumnDataSource(full_table)\n",
    "\n",
    "columns = [TableColumn(field=Ci, title=Ci, width=20) for Ci in full_table_columns]\n",
    "\n",
    "#Create the DataFrame\n",
    "sp500_data_table = DataTable(source=source, columns=columns, width=900, height=400, selectable = True, index_position = None)\n",
    "\n",
    "#Save the DataFrame\n",
    "output_file('SP500_Data_Table.html')\n",
    "save(sp500_data_table)"
   ]
  }
 ],
 "metadata": {
  "kernelspec": {
   "display_name": "Python 3",
   "language": "python",
   "name": "python3"
  },
  "language_info": {
   "codemirror_mode": {
    "name": "ipython",
    "version": 3
   },
   "file_extension": ".py",
   "mimetype": "text/x-python",
   "name": "python",
   "nbconvert_exporter": "python",
   "pygments_lexer": "ipython3",
   "version": "3.7.5"
  }
 },
 "nbformat": 4,
 "nbformat_minor": 2
}
