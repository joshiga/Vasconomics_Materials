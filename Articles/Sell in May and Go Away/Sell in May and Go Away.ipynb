{
 "cells": [
  {
   "cell_type": "markdown",
   "metadata": {},
   "source": [
    "# Import Libraries"
   ]
  },
  {
   "cell_type": "code",
   "execution_count": null,
   "metadata": {},
   "outputs": [],
   "source": [
    "from yahoo_fin.stock_info import * #Yahoo Finance Library for historical data\n",
    "\n",
    "import datetime\n",
    "import time\n",
    "\n",
    "import pandas as pd\n",
    "import numpy as np\n",
    "\n",
    "from scipy.stats.mstats import gmean #Include function for Geometrical Mean"
   ]
  },
  {
   "cell_type": "code",
   "execution_count": null,
   "metadata": {},
   "outputs": [],
   "source": [
    "#Ticker for S&P500\n",
    "market_ticker = '^GSPC'"
   ]
  },
  {
   "cell_type": "code",
   "execution_count": null,
   "metadata": {},
   "outputs": [],
   "source": [
    "#Price Data: Defining the Start and End dates \n",
    "beginning_period = datetime.datetime(1970, 1, 1).strftime('%m/%d/%Y')\n",
    "finishing_period = datetime.datetime(2019, 12, 31).strftime('%m/%d/%Y')\n",
    "\n",
    "#Downloading the Historical Data\n",
    "historical_data = get_data(market_ticker, start_date = beginning_period , end_date = finishing_period)\n",
    "\n",
    "#Rearranging the DataFrame\n",
    "df = pd.DataFrame(historical_data, columns=['adjclose'])\n",
    "df.index.name = 'Date'"
   ]
  },
  {
   "cell_type": "code",
   "execution_count": null,
   "metadata": {},
   "outputs": [],
   "source": [
    "#Calculate the returns\n",
    "df['returns'] = df['adjclose'].pct_change()\n",
    "\n",
    "#Insert value for Always Long Strategy\n",
    "df['Long'] = 1"
   ]
  },
  {
   "cell_type": "code",
   "execution_count": null,
   "metadata": {},
   "outputs": [],
   "source": [
    "#Strategy - Sell in May and Go Away (come back in St Ledger day)\n",
    "## 2 conditions: 1) from October (inclusive) until May (exclusive); 2) From the Monday after the 2nd Saturday of September\n",
    "\n",
    "df['SMGA'] = np.where(((df.index.month < 5) | (df.index.month >= 10)), 1, \n",
    "                      np.where(\n",
    "                          (df.index.month == 9) & (df.index.dayofweek  == 0) & (df.index.day >= 11) |\n",
    "                          (df.index.month == 9) & (df.index.dayofweek  == 1) & (df.index.day >= 12) |\n",
    "                          (df.index.month == 9) & (df.index.dayofweek  == 2) & (df.index.day >= 13) |\n",
    "                          (df.index.month == 9) & (df.index.dayofweek  == 3) & (df.index.day >= 14) |\n",
    "                          (df.index.month == 9) & (df.index.dayofweek  == 4) & (df.index.day >= 15), 1, 0))"
   ]
  },
  {
   "cell_type": "code",
   "execution_count": null,
   "metadata": {},
   "outputs": [],
   "source": [
    "#Strategy - Best Six Months of the year: From November (inclusively) to May (exclusively)\n",
    "df['BSM'] = np.where((df.index.month < 5) | (df.index.month >= 11), 1, 0)"
   ]
  },
  {
   "cell_type": "code",
   "execution_count": null,
   "metadata": {},
   "outputs": [],
   "source": [
    "#Opposite strategy of Sell in May and Go Away - for comparison purposes\n",
    "df['Opposite'] = np.where(df['SMGA'] == 1, 0, 1)"
   ]
  },
  {
   "cell_type": "code",
   "execution_count": null,
   "metadata": {},
   "outputs": [],
   "source": [
    "#Calculating cumulative returms of each \"Strategy\" - and show it in Index view (starting with 100 investiment)\n",
    "df['Long_Ret'] = (1 + df['Long']*df['returns']).cumprod()*100\n",
    "df['Long_Ret'].iloc[0] = 100\n",
    "\n",
    "df['SMGA_Ret'] = (1 + df['SMGA']*df['returns']).cumprod()*100\n",
    "df['SMGA_Ret'].iloc[0] = 100\n",
    "\n",
    "df['BSM_Ret'] = (1 + df['BSM']*df['returns']).cumprod()*100\n",
    "df['BSM_Ret'].iloc[0] = 100\n",
    "\n",
    "df['Opposite_Ret'] = (1 + df['Opposite']*df['returns']).cumprod()*100\n",
    "df['Opposite_Ret'].iloc[0] = 100"
   ]
  },
  {
   "cell_type": "code",
   "execution_count": null,
   "metadata": {},
   "outputs": [],
   "source": [
    "#Get an Yearly table\n",
    "\n",
    "#Drop the columns with strategy returns as here we want returns in percentage and not in Index based\n",
    "year_table = df.drop(columns=['Long_Ret', 'SMGA_Ret', 'Opposite_Ret', 'BSM_Ret'])\n",
    "\n",
    "#Calculating the Returns for each Strategy\n",
    "year_table['Long Returns'] = df['Long']*df['returns']\n",
    "year_table['SMGA Returns'] = df['SMGA']*df['returns']\n",
    "year_table['BSM Returns'] = df['BSM']*df['returns']\n",
    "year_table['Opposite Returns'] = df['Opposite']*df['returns']\n",
    "\n",
    "#Convert data to show summarized daily to yearly data\n",
    "year_table = year_table.resample('Y').sum()"
   ]
  },
  {
   "cell_type": "code",
   "execution_count": null,
   "metadata": {},
   "outputs": [],
   "source": [
    "#Drop further unnecessary columns\n",
    "year_table = year_table.drop(columns=['adjclose', 'returns', 'Long', 'SMGA', 'Opposite', 'BSM'])\n",
    "\n",
    "#Convert the Index from Date to just Year\n",
    "year_table.index = year_table.index.year"
   ]
  },
  {
   "cell_type": "code",
   "execution_count": null,
   "metadata": {},
   "outputs": [],
   "source": [
    "#Include Averages (Geometric Mean) in the Table\n",
    "## For returns it's more correct mathematically to include the Geometrical Mean\n",
    "year_table.loc['Average'] = gmean(year_table+1)-1\n",
    "year_table.loc['Avg Last 20Y'] = gmean(year_table[-20:]+1)-1\n",
    "year_table.loc['Avg Last 10Y'] = gmean(year_table[-10:]+1)-1\n",
    "\n",
    "#Pass data to % base\n",
    "year_table = round(year_table*100,2)"
   ]
  },
  {
   "cell_type": "markdown",
   "metadata": {},
   "source": [
    "# Generating the Plots"
   ]
  },
  {
   "cell_type": "code",
   "execution_count": null,
   "metadata": {},
   "outputs": [],
   "source": [
    "#Libraries for Plotting\n",
    "import holoviews as hv\n",
    "from holoviews import opts\n",
    "from holoviews.plotting.links import RangeToolLink\n",
    "from bokeh.models import HoverTool\n",
    "\n",
    "#Libraries for Table\n",
    "from bokeh.io import show, save, output_file\n",
    "from bokeh.models import ColumnDataSource\n",
    "from bokeh.models.widgets import DataTable, TableColumn\n",
    "\n",
    "import panel as pn\n",
    "\n",
    "hv.extension('bokeh')"
   ]
  },
  {
   "cell_type": "code",
   "execution_count": null,
   "metadata": {},
   "outputs": [],
   "source": [
    "#Rearranging the dataframe for graphing - Drop and rename columns\n",
    "\n",
    "graph_df = df.drop(columns=['adjclose', 'returns', 'Long', 'SMGA', 'Opposite', 'Opposite_Ret', 'BSM'])\n",
    "graph_df = graph_df.rename(columns = {'Long_Ret': 'Long', 'SMGA_Ret': 'SMGA', 'BSM_Ret': 'BSM'})\n",
    "\n",
    "graph_df = graph_df.round(0)"
   ]
  },
  {
   "cell_type": "code",
   "execution_count": null,
   "metadata": {},
   "outputs": [],
   "source": [
    "#Generate all curves\n",
    "def getCurves(n):\n",
    "    for column in graph_df.columns:\n",
    "        hover = HoverTool(tooltips=[(\"Date\", \"@Date{%F}\"), (column, \"@\"+column)], formatters={'Date': 'datetime'})  \n",
    "        curve = hv.Curve(graph_df[column], label = column).opts(opts.Curve(tools=[hover]))\n",
    "        yield curve\n",
    "        \n",
    "source_curves, target_curves  = [], []\n",
    "for curve in getCurves(2):\n",
    "    \n",
    "    src = curve.relabel('').opts(width=800, height=100, yaxis=None) \n",
    "    tgt = curve.opts(width=800, ylabel = 'Value in $')\n",
    "    source_curves.append(src)\n",
    "    target_curves.append(tgt)\n",
    "    \n",
    "# Link RangeTool for the first curves in the list.\n",
    "RangeToolLink(source_curves[0],target_curves[0], axes=['x','y'])\n",
    "\n",
    "#Overlay the source and target curves\n",
    "overlaid_plot_src = hv.Overlay(source_curves).relabel('')    \n",
    "overlaid_plot_tgt = hv.Overlay(target_curves).relabel('Long Always, \"Sell in May and Go Away\" and Best Six Months').opts(\n",
    "    height=400, legend_position='top_left')\n",
    "\n",
    "# Layout the plot and render\n",
    "full_graph = (overlaid_plot_tgt + overlaid_plot_src).cols(1)\n",
    "full_graph = full_graph.opts(merge_tools=False,shared_axes=False)"
   ]
  },
  {
   "cell_type": "markdown",
   "metadata": {},
   "source": [
    "Note: check the extra section to see an easier way of generating the graph, with the drawback of not being able to generate\n",
    "the RangeToolLink"
   ]
  },
  {
   "cell_type": "code",
   "execution_count": null,
   "metadata": {
    "scrolled": false
   },
   "outputs": [],
   "source": [
    "#Save the Plot\n",
    "p = pn.panel(full_graph)\n",
    "p.save('Full_Gaph.html', embed = True)"
   ]
  },
  {
   "cell_type": "markdown",
   "metadata": {},
   "source": [
    "## Obtaining the same table for the last 20 Years only"
   ]
  },
  {
   "cell_type": "code",
   "execution_count": null,
   "metadata": {},
   "outputs": [],
   "source": [
    "#Filter the DataFrame for the last 20 Years\n",
    "last20Y_df = df.loc[df.index >= '2000-01-03']\n",
    "\n",
    "#Re-Calculate the cumulative returms of each \"Strategy\" - and show it in Index view (starting with 100 investiment)\n",
    "last20Y_df['Long_Ret'] = (1 + last20Y_df['Long']*last20Y_df['returns']).cumprod()*100\n",
    "last20Y_df['Long_Ret'].iloc[0] = 100\n",
    "\n",
    "last20Y_df['SMGA_Ret'] = (1 + last20Y_df['SMGA']*last20Y_df['returns']).cumprod()*100\n",
    "last20Y_df['SMGA_Ret'].iloc[0] = 100\n",
    "\n",
    "last20Y_df['BSM_Ret'] = (1 + last20Y_df['BSM']*last20Y_df['returns']).cumprod()*100\n",
    "last20Y_df['BSM_Ret'].iloc[0] = 100\n",
    "\n",
    "last20Y_df['Opposite_Ret'] = (1 + last20Y_df['Opposite']*last20Y_df['returns']).cumprod()*100\n",
    "last20Y_df['Opposite_Ret'].iloc[0] = 100"
   ]
  },
  {
   "cell_type": "code",
   "execution_count": null,
   "metadata": {},
   "outputs": [],
   "source": [
    "#Rearranging the dataframe for graphing - Drop and rename columns\n",
    "\n",
    "graph_last20Y_df = last20Y_df.drop(columns=['adjclose', 'returns', 'Long', 'SMGA', 'Opposite', 'Opposite_Ret', 'BSM'])\n",
    "graph_last20Y_df = graph_last20Y_df.rename(columns = {'Long_Ret': 'Long', 'SMGA_Ret': 'SMGA', 'BSM_Ret': 'BSM'})\n",
    "\n",
    "#Round the values to have no decimal cases\n",
    "graph_last20Y_df = graph_last20Y_df.round(0)"
   ]
  },
  {
   "cell_type": "code",
   "execution_count": null,
   "metadata": {},
   "outputs": [],
   "source": [
    "#Generate all curves\n",
    "def getCurves(n):\n",
    "    for column in graph_last20Y_df.columns:\n",
    "        hover = HoverTool(tooltips=[(\"Date\", \"@Date{%F}\"), (column, \"@\"+column)], formatters={'Date': 'datetime'})  \n",
    "        curve = hv.Curve(graph_last20Y_df[column], label = column).opts(opts.Curve(tools=[hover]))\n",
    "        yield curve\n",
    "        \n",
    "source_curves, target_curves  = [], []\n",
    "for curve in getCurves(2):\n",
    "    \n",
    "    src = curve.relabel('').opts(width=800, height=100, yaxis=None) \n",
    "    tgt = curve.opts(width=800, ylabel = 'Value in $')\n",
    "    source_curves.append(src)\n",
    "    target_curves.append(tgt)\n",
    "    \n",
    "# Link RangeTool for the first curves in the list.\n",
    "RangeToolLink(source_curves[0],target_curves[0], axes=['x','y'])\n",
    "\n",
    "#Overlay the source and target curves\n",
    "overlaid_plot_src = hv.Overlay(source_curves).relabel('')    \n",
    "overlaid_plot_tgt = hv.Overlay(target_curves).relabel('Long Always, \"Sell in May and Go Away\" and Best Six Months - Last 20 Years').opts(\n",
    "    height=400, legend_position='top_left')\n",
    "\n",
    "# Layout the plot and render\n",
    "last20Y_graph = (overlaid_plot_tgt + overlaid_plot_src).cols(1)\n",
    "last20Y_graph = last20Y_graph.opts(merge_tools=False,shared_axes=False)"
   ]
  },
  {
   "cell_type": "code",
   "execution_count": null,
   "metadata": {},
   "outputs": [],
   "source": [
    "#Save the Plot\n",
    "p = pn.panel(last20Y_graph)\n",
    "p.save('Last20Year_Gaph.html', embed = True)"
   ]
  },
  {
   "cell_type": "markdown",
   "metadata": {},
   "source": [
    "# Generating the Table"
   ]
  },
  {
   "cell_type": "code",
   "execution_count": null,
   "metadata": {},
   "outputs": [],
   "source": [
    "#Define the Table columns\n",
    "year_table = year_table.reset_index()\n",
    "year_table_columns = year_table.columns\n",
    "\n",
    "#Define the Source and the Columns of the DataFrame\n",
    "source = ColumnDataSource(year_table)\n",
    "\n",
    "columns = [TableColumn(field=Ci, title=Ci, width=20) for Ci in year_table_columns]\n",
    "\n",
    "#Create the DataFrame\n",
    "year_table_datatable = DataTable(source=source, columns=columns, width=600, height=500, selectable = True, index_position = None)\n",
    "\n",
    "#Save the DataFrame\n",
    "output_file('Historical_Comparison_Table.html')\n",
    "save(year_table_datatable)"
   ]
  },
  {
   "cell_type": "markdown",
   "metadata": {},
   "source": [
    "# Extra"
   ]
  },
  {
   "cell_type": "markdown",
   "metadata": {},
   "source": [
    "Note: easier way of generating the graph, with the drawback of not being able to generate the RangeToolLink"
   ]
  },
  {
   "cell_type": "code",
   "execution_count": null,
   "metadata": {},
   "outputs": [],
   "source": [
    "#Defining the Hovering Tooltips\n",
    "hover_1 = HoverTool(tooltips=[(\"Date\", \"@Date{%F}\"), (\"Long\", \"@Long\")], formatters={'Date': 'datetime'})   \n",
    "hover_2 = HoverTool(tooltips=[(\"Date\", \"@Date{%F}\"), (\"SMGA\", \"@SMGA\")], formatters={'Date': 'datetime'})   \n",
    "\n",
    "#Instatiating the Curve Objects for Plotting\n",
    "c_Long = hv.Curve(graph_df['Long']\n",
    "                      , label='Long').opts(tools=[hover_1], color='red', xlabel='Date',\n",
    "                                                          ylabel = 'Value in $')\n",
    "c_SMGA = hv.Curve(graph_df['SMGA']\n",
    "                      , label='SMGA').opts(tools=[hover_2], color='blue', xlabel='Date',\n",
    "                                                          ylabel = 'Value in $')\n",
    "\n",
    "#Join both Curves\n",
    "full_graph = hv.Overlay(c_Long * c_SMGA).opts(width=700, height = 400, legend_position='top_left')"
   ]
  }
 ],
 "metadata": {
  "kernelspec": {
   "display_name": "Python 3",
   "language": "python",
   "name": "python3"
  },
  "language_info": {
   "codemirror_mode": {
    "name": "ipython",
    "version": 3
   },
   "file_extension": ".py",
   "mimetype": "text/x-python",
   "name": "python",
   "nbconvert_exporter": "python",
   "pygments_lexer": "ipython3",
   "version": "3.7.5"
  }
 },
 "nbformat": 4,
 "nbformat_minor": 2
}
