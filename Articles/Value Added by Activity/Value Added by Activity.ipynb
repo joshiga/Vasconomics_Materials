{
 "cells": [
  {
   "cell_type": "markdown",
   "metadata": {},
   "source": [
    "# Plotting with d3IpyPlus"
   ]
  },
  {
   "cell_type": "markdown",
   "metadata": {
    "scrolled": false
   },
   "source": [
    "## Import Libraries"
   ]
  },
  {
   "cell_type": "code",
   "execution_count": null,
   "metadata": {},
   "outputs": [],
   "source": [
    "import pandas as pd\n",
    "\n",
    "from functools import partial\n",
    "from d3IpyPlus import *\n",
    "#d3IpyPlus was found in https://github.com/maclandrol/d3IpyPlus\n",
    "## One just needs to include the file d3IpyPlus.py in the same path as the Jupyter Notebook's file"
   ]
  },
  {
   "cell_type": "markdown",
   "metadata": {},
   "source": [
    "## Code for Treemap"
   ]
  },
  {
   "cell_type": "code",
   "execution_count": null,
   "metadata": {
    "scrolled": false
   },
   "outputs": [],
   "source": [
    "#Import the DataFrame\n",
    "## Here please notice that I did several changes to the DataFrame in Excel already, for convenience\n",
    "df = pd.read_csv('Data_final.csv', index_col=None)\n",
    "\n",
    "#Running the Treemamp Code\n",
    "tmap = TreeMap(id=[\"country\",\"sector\"], size=\"value\", color=\"value\", legend=True, width=700)\n",
    "tmap.draw(df)"
   ]
  },
  {
   "cell_type": "code",
   "execution_count": null,
   "metadata": {
    "scrolled": false
   },
   "outputs": [],
   "source": [
    "#To print the dump html code the below can be used. However, in this case changes were needed in the html text.\n",
    "print(tmap.dump_html(df))"
   ]
  },
  {
   "cell_type": "markdown",
   "metadata": {},
   "source": [
    "# Extra: Plotting with Matplotlib and Squarify\n",
    "### No Interactivity in the Treemap (static graph)"
   ]
  },
  {
   "cell_type": "markdown",
   "metadata": {},
   "source": [
    "## Import Libraries"
   ]
  },
  {
   "cell_type": "code",
   "execution_count": null,
   "metadata": {},
   "outputs": [],
   "source": [
    "import pandas as pd\n",
    "import numpy as np\n",
    "import squarify\n",
    "\n",
    "import matplotlib\n",
    "import matplotlib.pyplot as plt"
   ]
  },
  {
   "cell_type": "code",
   "execution_count": null,
   "metadata": {},
   "outputs": [],
   "source": [
    "#Import data (different file from the above usage)\n",
    "data = pd.read_csv('Data_tmap.csv', index_col=0)\n",
    "\n",
    "#Create a Dictionary with the Data for the Different Countries\n",
    "multi_df = dict()\n",
    "for i in np.arange(0, len(data.columns), 3):\n",
    "    test = data[data.columns[i:(i+3)]]\n",
    "    test = test[pd.notnull(test[test.columns[0]])]\n",
    "    test = test[1:]\n",
    "    test[test.columns[0]] = pd.to_numeric(test[test.columns[0]], downcast='signed')\n",
    "\n",
    "    #Include extra value for Other activities (with value lower than 2%)\n",
    "    total_GNP = sum(test[test.columns[0]])\n",
    "    test['Perc'] = test[test.columns[0]] / total_GNP\n",
    "    test = test[test['Perc']>=0.013]\n",
    "    test = test.sort_values(by=test.columns[0],ascending=False)\n",
    "    other_value = total_GNP - sum(test[test.columns[0]])\n",
    "    other_perc = str(round((1 - sum(test[test.columns[3]]))*100,2))+'%'\n",
    "    test.loc['Other activities'] = [other_value, other_perc, test[test.columns[2]][0], 0]\n",
    "\n",
    "    test = test.drop(columns=['Perc'])\n",
    "    multi_df.update({test.columns[0]: test}) "
   ]
  },
  {
   "cell_type": "code",
   "execution_count": null,
   "metadata": {},
   "outputs": [],
   "source": [
    "# Treemap parameters\n",
    "x = 0.\n",
    "y = 0.\n",
    "width = 100.\n",
    "height = 100.\n",
    "cmap = matplotlib.cm.viridis\n",
    "\n",
    "#Define the \"country\" from the Dataset to which you want to create the Treemap\n",
    "country = 'Portugal' \n",
    "df= multi_df[country]\n",
    "\n",
    "#Utilise matplotlib to scale our goal numbers between the min and max, then assign this scale to our values\n",
    "mini=min(df[df.columns[0]])\n",
    "maxi=max(df[df.columns[0]])\n",
    "norm = matplotlib.colors.Normalize(vmin=mini, vmax=maxi)\n",
    "colors = [cmap(norm(value)) for value in df[df.columns[0]]]\n",
    "\n",
    "# Labels for squares\n",
    "labels = [\"%s\\n %s %s \\n %s \" % (label) for label in \n",
    "          zip(df.index, df[df.columns[0]], df[df.columns[2]], df[df.columns[1]])]\n",
    "\n",
    "# Making the plot\n",
    "fig = plt.figure(figsize=(17, 17))\n",
    "fig.suptitle(df.columns[0] + \"- Value Added by Sector\", fontsize=20)\n",
    "ax = fig.add_subplot(111, aspect=\"equal\")\n",
    "ax = squarify.plot(df[df.columns[0]], color=colors, label=labels, ax=ax, alpha=.8, linewidth=1, edgecolor='#000000')\n",
    "ax.set_xticks([])\n",
    "ax.set_yticks([])\n",
    "\n",
    "plt.show()"
   ]
  }
 ],
 "metadata": {
  "kernelspec": {
   "display_name": "Python 3",
   "language": "python",
   "name": "python3"
  },
  "language_info": {
   "codemirror_mode": {
    "name": "ipython",
    "version": 3
   },
   "file_extension": ".py",
   "mimetype": "text/x-python",
   "name": "python",
   "nbconvert_exporter": "python",
   "pygments_lexer": "ipython3",
   "version": "3.7.5"
  }
 },
 "nbformat": 4,
 "nbformat_minor": 2
}
