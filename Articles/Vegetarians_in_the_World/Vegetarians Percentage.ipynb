{
 "cells": [
  {
   "cell_type": "code",
   "execution_count": 1,
   "metadata": {},
   "outputs": [],
   "source": [
    "import os\n",
    "import pandas as pd\n",
    "import chart_studio.plotly as py\n",
    "import chart_studio\n",
    "\n",
    "from bokeh.io import show, save, output_file\n",
    "from bokeh.models import ColumnDataSource\n",
    "from bokeh.models.widgets import DataTable, TableColumn"
   ]
  },
  {
   "cell_type": "markdown",
   "metadata": {},
   "source": [
    "# Introduce your Credentials from Plotly"
   ]
  },
  {
   "cell_type": "code",
   "execution_count": 2,
   "metadata": {},
   "outputs": [],
   "source": [
    "chart_studio.tools.set_credentials_file(username='VascoLaranjo', api_key='rH5qcE1qG8MHDdCAb6vG')\n",
    "chart_studio.tools.set_config_file(world_readable=True, sharing='public')"
   ]
  },
  {
   "cell_type": "markdown",
   "metadata": {},
   "source": [
    "# Load the DataFrame"
   ]
  },
  {
   "cell_type": "code",
   "execution_count": 3,
   "metadata": {},
   "outputs": [],
   "source": [
    "df = pd.read_csv('Vegetarians.csv', ',', encoding = \"ISO-8859-1\")\n",
    "df.columns = ['Rank','Country', 'Percent Vegetarians']\n",
    "df = df.set_index('Rank')"
   ]
  },
  {
   "cell_type": "markdown",
   "metadata": {},
   "source": [
    "# Create the Inputs for the Choropleth Map"
   ]
  },
  {
   "cell_type": "code",
   "execution_count": 13,
   "metadata": {},
   "outputs": [],
   "source": [
    "# Text to appear when hovering in the Map\n",
    "df['text'] = 'Rank: ' + df.index.astype(str) + '<br>' + 'Percentage of Vegetarians: '+ df['Percent Vegetarians'].astype(str)+'%'+'<br>'+'Country: '+df['Country']\n",
    "\n",
    "#Data used to color the Map\n",
    "data = [dict(type = 'choropleth',autocolorscale = False, locations = df['Country'], z = df['Percent Vegetarians'], locationmode='country names',\n",
    "            text = df['text'], colorscale = 'Bluered', colorbar=dict(title=\"Percent of Population\"))]\n",
    "\n",
    "#Layout of the Map (where you define the type of Plot)\n",
    "layout = dict(title='Percentage of Vegetarians in the World',\n",
    "             geo = dict(scope='world', showlakes = True, lakecolor='rgb(66,165,245)',),\n",
    "             )"
   ]
  },
  {
   "cell_type": "markdown",
   "metadata": {},
   "source": [
    "# Join the Inputs and Generate the Output"
   ]
  },
  {
   "cell_type": "code",
   "execution_count": 14,
   "metadata": {
    "scrolled": true
   },
   "outputs": [
    {
     "data": {
      "text/html": [
       "\n",
       "        <iframe\n",
       "            width=\"100%\"\n",
       "            height=\"525px\"\n",
       "            src=\"https://plot.ly/~VascoLaranjo/52.embed\"\n",
       "            frameborder=\"0\"\n",
       "            allowfullscreen\n",
       "        ></iframe>\n",
       "        "
      ],
      "text/plain": [
       "<IPython.lib.display.IFrame at 0x142a2610e88>"
      ]
     },
     "execution_count": 14,
     "metadata": {},
     "output_type": "execute_result"
    }
   ],
   "source": [
    "fig = dict(data= data, layout = layout)\n",
    "py.iplot(fig, filename='Vegetarians_Map')"
   ]
  },
  {
   "cell_type": "markdown",
   "metadata": {},
   "source": [
    "# Save the DataFrame to html format"
   ]
  },
  {
   "cell_type": "code",
   "execution_count": 16,
   "metadata": {},
   "outputs": [
    {
     "data": {
      "text/plain": [
       "'C:\\\\Users\\\\vasco\\\\Notebooks\\\\Studies\\\\Vasconomics\\\\Vegetarians\\\\Vegetarians_Table.html'"
      ]
     },
     "execution_count": 16,
     "metadata": {},
     "output_type": "execute_result"
    }
   ],
   "source": [
    "df_columns = ['Rank','Country', 'Percent Vegetarians']\n",
    "\n",
    "#Define the Source and the Columns of the DataFrame\n",
    "source = ColumnDataSource(df)\n",
    "\n",
    "columns = [TableColumn(field=Ci, title=Ci, width=20) for Ci in df_columns]\n",
    "\n",
    "#Create the DataFrame\n",
    "data_table = DataTable(source=source, columns=columns, width=380, height=280, selectable = True, index_position = None)\n",
    "\n",
    "#Save the DataFrame\n",
    "output_file('Vegetarians_Table.html')\n",
    "save(data_table)"
   ]
  }
 ],
 "metadata": {
  "kernelspec": {
   "display_name": "Python 3",
   "language": "python",
   "name": "python3"
  },
  "language_info": {
   "codemirror_mode": {
    "name": "ipython",
    "version": 3
   },
   "file_extension": ".py",
   "mimetype": "text/x-python",
   "name": "python",
   "nbconvert_exporter": "python",
   "pygments_lexer": "ipython3",
   "version": "3.7.5"
  }
 },
 "nbformat": 4,
 "nbformat_minor": 2
}
