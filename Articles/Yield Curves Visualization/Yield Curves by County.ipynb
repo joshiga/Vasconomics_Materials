{
 "cells": [
  {
   "cell_type": "markdown",
   "metadata": {},
   "source": [
    "# Import Libraries"
   ]
  },
  {
   "cell_type": "code",
   "execution_count": null,
   "metadata": {},
   "outputs": [],
   "source": [
    "#DataFrames manipulation\n",
    "import pandas as pd\n",
    "import numpy as np\n",
    "\n",
    "#System Libraries\n",
    "import os, glob\n",
    "import shutil\n",
    "from datetime import datetime, timedelta\n",
    "\n",
    "#Investing library\n",
    "import investpy\n",
    "\n",
    "#Libraries for the Plotting\n",
    "import holoviews as hv\n",
    "from holoviews import opts, dim\n",
    "\n",
    "#Librarie to save the plots to html object\n",
    "import panel as pn\n",
    "\n",
    "hv.extension('bokeh')"
   ]
  },
  {
   "cell_type": "markdown",
   "metadata": {},
   "source": [
    "# Initial Setup"
   ]
  },
  {
   "cell_type": "code",
   "execution_count": null,
   "metadata": {},
   "outputs": [],
   "source": [
    "data = pd.read_excel('Countries.xlsx')\n",
    "data = data.set_index('Maturities/Countries')\n",
    "\n",
    "countries = data.index\n",
    "maturities = data.columns"
   ]
  },
  {
   "cell_type": "code",
   "execution_count": null,
   "metadata": {},
   "outputs": [],
   "source": [
    "#Create a Data Folder\n",
    "Data_folder = os.path.abspath(os.getcwd() +'/Data/')\n",
    "if not os.path.exists(Data_folder):\n",
    "    os.makedirs(Data_folder)\n",
    "\n",
    "#Clean older files and folders in the Data Folder\n",
    "filelist = [ f for f in os.listdir(Data_folder)]\n",
    "for f in filelist:\n",
    "    shutil.rmtree(os.path.join(Data_folder, f), ignore_errors=True)\n",
    "\n",
    "filelist = [ f for f in os.listdir(Data_folder)]\n",
    "for f in filelist:\n",
    "    os.remove(os.path.join(Data_folder, f))\n",
    "\n",
    "#Create Folder to Store Full Curves for each country\n",
    "full_curves_folder = os.path.join(Data_folder, 'Full Curves')\n",
    "if not os.path.exists(full_curves_folder):\n",
    "    os.makedirs(full_curves_folder)\n",
    "    \n",
    "#Create Folder to Store Data for each data point (maturity) for each country - Each Country will have a folder, see next\n",
    "individual_points_folder = os.path.join(Data_folder, 'Individual Points')\n",
    "if not os.path.exists(individual_points_folder):\n",
    "    os.makedirs(individual_points_folder)\n",
    "    \n",
    "#Create New Folder for each Country\n",
    "for country in countries:\n",
    "    country_folder = os.path.join(individual_points_folder, country)\n",
    "    if not os.path.exists(country_folder):\n",
    "        os.makedirs(country_folder)"
   ]
  },
  {
   "cell_type": "code",
   "execution_count": null,
   "metadata": {},
   "outputs": [],
   "source": [
    "#Setting the Initial and Last Date for Data Extract\n",
    "today = datetime.now()\n",
    "beginning_date = today - timedelta(days=365)\n",
    "today = today.strftime('%d/%m/%Y')\n",
    "beginning_date = beginning_date.strftime('%d/%m/%Y')"
   ]
  },
  {
   "cell_type": "code",
   "execution_count": null,
   "metadata": {},
   "outputs": [],
   "source": [
    "#Loop to download historical data for each maturity for each country\n",
    "##Loop through countries\n",
    "for country in countries:\n",
    "    try:\n",
    "        #Defining the Country Folder (Special treatment for country names finishing with '.' due to folders names not finishing in '.')\n",
    "        if country[-1] == '.':\n",
    "            country_folder = os.path.join(individual_points_folder, country[:-1])\n",
    "        else: country_folder = os.path.join(individual_points_folder, country)\n",
    "\n",
    "        investing_symbols = data[data.index==country].iloc[0].tolist()\n",
    "        \n",
    "        #Loop through maturities\n",
    "        for symbol in investing_symbols:\n",
    "            try:       \n",
    "                table = investpy.get_bond_historical_data(bond=symbol, from_date=beginning_date, to_date=today)\n",
    "                table = table.rename(columns={\"Close\": symbol})\n",
    "                table = table[symbol]\n",
    "                table.to_csv(os.path.join(country_folder,symbol)+'_Table.csv', header = True)\n",
    "            except:\n",
    "                continue\n",
    "    except:\n",
    "        continue"
   ]
  },
  {
   "cell_type": "code",
   "execution_count": null,
   "metadata": {},
   "outputs": [],
   "source": [
    "#Joining all files from different maturities in one file\n",
    "for country in countries:\n",
    "    try:\n",
    "        if country[-1] == '.':\n",
    "            country_folder = os.path.join(individual_points_folder, country[:-1])\n",
    "        else: country_folder = os.path.join(individual_points_folder, country)\n",
    "\n",
    "        all_files = glob.glob(country_folder + \"/*.csv\")\n",
    "\n",
    "        full_df = pd.read_csv(all_files[0])\n",
    "        for file in all_files[1:]:\n",
    "            df = pd.read_csv(file, index_col=None)\n",
    "            full_df = full_df.merge(df, on='Date', how='left')\n",
    "\n",
    "        #Creating a Final DataFrame with All original Maturities - to mantain consistency along different countries\n",
    "        #Note that different Governments issue bonds with different Maturities\n",
    "        final_df = pd.DataFrame(columns=maturities)\n",
    "        for maturity in maturities:\n",
    "            try:\n",
    "                final_df[maturity]=full_df[country+\" \"+maturity]\n",
    "            except:\n",
    "                final_df[maturity] = np.NaN\n",
    "\n",
    "        final_df = final_df.fillna(method='bfill')\n",
    "\n",
    "        #Limiting DataFrame to Include just the 4 Periods: 'Today','1Month Ago','3Months Ago','1Year Ago'\n",
    "        final_df = final_df.iloc[[-1, -30,-90,0],:]\n",
    "        final_df['Period'] = ['Today','1Month Ago','3Months Ago','1Year Ago']\n",
    "        final_df = final_df.set_index('Period')\n",
    "\n",
    "        final_df.to_csv(os.path.join(full_curves_folder,country)+'_Table.csv', header = True)\n",
    "    except:\n",
    "        continue"
   ]
  },
  {
   "cell_type": "markdown",
   "metadata": {},
   "source": [
    "# Creating the Graphs"
   ]
  },
  {
   "cell_type": "markdown",
   "metadata": {},
   "source": [
    "## US Yield Curve Graphs"
   ]
  },
  {
   "cell_type": "code",
   "execution_count": null,
   "metadata": {},
   "outputs": [],
   "source": [
    "#Get the Data for current U.S. Yield Curve\n",
    "country = 'U.S.'\n",
    "US_table = pd.read_csv(os.path.join(full_curves_folder,country)+'_Table.csv')\n",
    "US_YC_current = US_table[US_table['Period']=='Today'].set_index('Period')\n",
    "US_YC_current = US_YC_current.T.interpolate('linear')"
   ]
  },
  {
   "cell_type": "code",
   "execution_count": null,
   "metadata": {},
   "outputs": [],
   "source": [
    "#Generate Plot for current U.S. Yield Curve\n",
    "curve_US_Current = hv.Curve(US_YC_current)\n",
    "curve_US_Current = curve_US_Current.opts(opts.Curve(tools=['hover'], show_grid=True,\n",
    "                              width=700, xlabel= 'Maturity', ylabel = 'Yield %', title = 'U.S. Yield Curve'))"
   ]
  },
  {
   "cell_type": "code",
   "execution_count": null,
   "metadata": {},
   "outputs": [],
   "source": [
    "#Let's use the Panel library to be able to save the Table generated\n",
    "p = pn.panel(curve_US_Current)\n",
    "p.save('US_Yield_Curve_current.html', embed = True)"
   ]
  },
  {
   "cell_type": "markdown",
   "metadata": {},
   "source": [
    "### US Yield Curve at Different Dates Graph"
   ]
  },
  {
   "cell_type": "code",
   "execution_count": null,
   "metadata": {},
   "outputs": [],
   "source": [
    "#Get the Data for U.S. Yield Curve at different dates\n",
    "country = 'U.S.'\n",
    "US_table = pd.read_csv(os.path.join(full_curves_folder,country)+'_Table.csv')\n",
    "US_YC = US_table.set_index('Period')\n",
    "US_YC = US_YC.T.interpolate('linear')"
   ]
  },
  {
   "cell_type": "code",
   "execution_count": null,
   "metadata": {},
   "outputs": [],
   "source": [
    "def getCurves(n):\n",
    "    for column in US_YC.columns:\n",
    "        curve = hv.Curve(US_YC[column], label = column)\n",
    "        yield curve\n",
    "\n",
    "target_curves  = []        \n",
    "for curve in getCurves(10):\n",
    "    # Without relabel, the curve somehow shares the ranging properties. opts with clone=True doesn't help either.\n",
    "    tgt = curve.opts(opts.Curve(tools=['hover'], width=700))\n",
    "    target_curves.append(tgt)     \n",
    "\n",
    "#Overlay the source and target curves \n",
    "curves_US = hv.Overlay(target_curves).relabel('').opts(ylabel='Yield %', legend_position='top', height=400,\n",
    "                                                              title = 'U.S. Yield Curves at Different Times')"
   ]
  },
  {
   "cell_type": "code",
   "execution_count": null,
   "metadata": {},
   "outputs": [],
   "source": [
    "#Let's use the Panel library to be able to save the Table generated\n",
    "p = pn.panel(curves_US)\n",
    "p.save('US_Yield_Curves_Historical.html', embed = True)"
   ]
  },
  {
   "cell_type": "markdown",
   "metadata": {},
   "source": [
    "## Multiple Yield Curves"
   ]
  },
  {
   "cell_type": "code",
   "execution_count": null,
   "metadata": {},
   "outputs": [],
   "source": [
    "#For multiple Countries we need to create a DataFrame with 3-dimensions (country, maturity, date)\n",
    "    #-> to do this we create a dictionary and include each DataFrame with the assigned dictionary key being the Index\n",
    "    \n",
    "multi_df = dict()\n",
    "for country in countries:\n",
    "    try:\n",
    "        #For each of the Country will do the following procedure\n",
    "\n",
    "        country_table = pd.read_csv(os.path.join(full_curves_folder,country)+'_Table.csv')\n",
    "        country_table = country_table.set_index('Period')\n",
    "        country_table_T = country_table.T\n",
    "        country_table_T = country_table_T.interpolate(method='linear', limit_direction = 'both', limit_area = 'inside')\n",
    "        multi_df.update({country: country_table_T})\n",
    "    except:\n",
    "        continue"
   ]
  },
  {
   "cell_type": "code",
   "execution_count": null,
   "metadata": {
    "scrolled": false
   },
   "outputs": [],
   "source": [
    "#Include Dropdown List\n",
    "def load_countries(Country): \n",
    "    def getCurves(n):\n",
    "        for column in multi_df[Country].columns:\n",
    "            curve = hv.Curve(multi_df[Country][column], label = column)\n",
    "            yield curve\n",
    "\n",
    "    source_curves, target_curves  = [], []\n",
    "    for curve in getCurves(10):\n",
    "        # Without relabel, the curve somehow shares the ranging properties. opts with clone=True doesn't help either.\n",
    "        tgt = curve.opts(opts.Curve(tools=['hover'], width=700))\n",
    "        target_curves.append(tgt)     \n",
    "\n",
    "    #Overlay the source and target curves \n",
    "    overlaid_plot_tgt = hv.Overlay(target_curves).relabel('').opts(ylabel='Yield %', legend_position='top_left', \n",
    "                                                                   background_fill_alpha  = 0, height=400)\n",
    "\n",
    "    return overlaid_plot_tgt\n",
    "        \n",
    "countries_name = multi_df.keys()\n",
    "\n",
    "dmap = hv.DynamicMap(load_countries, kdims='Country').redim.values(Country=countries_name)\n",
    "\n",
    "dmap = dmap.opts(framewise=True)"
   ]
  },
  {
   "cell_type": "code",
   "execution_count": null,
   "metadata": {},
   "outputs": [],
   "source": [
    "#Let's use the Panel library to be able to save the Table generated\n",
    "p = pn.panel(dmap)\n",
    "p.save('Multiple_Yield_Curves.html', embed = True) "
   ]
  },
  {
   "cell_type": "markdown",
   "metadata": {},
   "source": [
    "## Save Table to html format"
   ]
  },
  {
   "cell_type": "code",
   "execution_count": null,
   "metadata": {},
   "outputs": [],
   "source": [
    "#For multiple Countries we need to create a DataFrame with 3-dimensions (country, maturity, date)\n",
    "    #-> to do this we create a dictionary and include each DataFrame with the assigned dictionary key being the Index\n",
    "\n",
    "#*** Similar to the one above but without Interpolation and Transpose ***\n",
    "multi_df = dict()\n",
    "for country in countries:\n",
    "    try:\n",
    "        #For each of the Country will do the following procedure\n",
    "\n",
    "        country_table = pd.read_csv(os.path.join(full_curves_folder,country)+'_Table.csv')\n",
    "        multi_df.update({country: country_table})\n",
    "    except:\n",
    "        continue"
   ]
  },
  {
   "cell_type": "code",
   "execution_count": null,
   "metadata": {},
   "outputs": [],
   "source": [
    "#Instantiate a Table and define the Table Generation dynamics\n",
    "##Note that the \"if's\" were introduced to account for the \"All\" values in Sectors and Industries as no stock has this value \n",
    "def load_countries(Country):\n",
    "    table = hv.Table(multi_df[Country])  \n",
    "    table = table.opts(opts.Table(width=950, height=150, selectable = True, index_position = None))\n",
    "    return table\n",
    "\n",
    "countries_name = multi_df.keys()\n",
    "\n",
    "#Instantiate the DynamicMap function, so to generate the Table defined with the Widgets for Sectors and Industries\n",
    "dmap = hv.DynamicMap(load_countries, kdims=['Country']).redim.values(Country=countries_name)\n",
    "dmap = dmap.opts(framewise=True)"
   ]
  },
  {
   "cell_type": "code",
   "execution_count": null,
   "metadata": {
    "scrolled": true
   },
   "outputs": [],
   "source": [
    "#Let's use the Panel library to be able to save the Table generated\n",
    "p = pn.panel(dmap,  widget_location='top_left')\n",
    "p.save('Yield_Curves_table.html', embed = True)"
   ]
  },
  {
   "cell_type": "markdown",
   "metadata": {},
   "source": [
    "# Extra: Examples for Types of Yield Curves "
   ]
  },
  {
   "cell_type": "code",
   "execution_count": null,
   "metadata": {},
   "outputs": [],
   "source": [
    "YC_examples = pd.DataFrame(data={'Maturity': ['3M','6M','1Y', '2Y','5Y','7Y','10Y','15Y','20Y','30Y'], \n",
    "                                 'Normal': [0.2, 0.6, 1, 1.3, 1.5, 1.7, 1.8, 1.9, 2, 2.05],\n",
    "                                'Flat': [1.5,1.5,1.5,1.5,1.5,1.5,1.5,1.5,1.5,1.5],\n",
    "                                'Inverted':[2.05, 2, 1.9, 1.8, 1.7, 1.5, 1.3, 1, 0.6, 0.2],\n",
    "                                'Humped':[0.8, 0.9, 0.7, 0.6, 0.7, 0.8, 0.9, 1, 1.2, 1.3]}).set_index('Maturity')"
   ]
  },
  {
   "cell_type": "code",
   "execution_count": null,
   "metadata": {},
   "outputs": [],
   "source": [
    "Normal_YC = hv.Curve(YC_examples['Normal'], label='Normal Yield Curve').opts(ylim=(0, 3), ylabel='Yield %')\n",
    "Inverted_YC = hv.Curve(YC_examples['Inverted'], label='Inverted Yield Curve').opts(ylim=(0, 3), ylabel='Yield %')\n",
    "Flat_YC = hv.Curve(YC_examples['Flat'], label='Flat Yield Curve').opts(ylim=(0, 3), ylabel='Yield %')\n",
    "Humped_YC = hv.Curve(YC_examples['Humped'], label='Humped Yield Curve').opts(ylim=(0, 3), ylabel='Yield %')"
   ]
  },
  {
   "cell_type": "code",
   "execution_count": null,
   "metadata": {
    "scrolled": true
   },
   "outputs": [],
   "source": [
    "YC_types = hv.Layout(Normal_YC + Inverted_YC + Flat_YC + Humped_YC).cols(2)"
   ]
  },
  {
   "cell_type": "code",
   "execution_count": null,
   "metadata": {},
   "outputs": [],
   "source": [
    "#Let's use the Panel library to be able to save the Table generated\n",
    "p = pn.panel(YC_types)\n",
    "p.save('Yield_Curves_Types.html', embed = True)"
   ]
  }
 ],
 "metadata": {
  "kernelspec": {
   "display_name": "Python 3",
   "language": "python",
   "name": "python3"
  },
  "language_info": {
   "codemirror_mode": {
    "name": "ipython",
    "version": 3
   },
   "file_extension": ".py",
   "mimetype": "text/x-python",
   "name": "python",
   "nbconvert_exporter": "python",
   "pygments_lexer": "ipython3",
   "version": "3.7.5"
  }
 },
 "nbformat": 4,
 "nbformat_minor": 2
}
